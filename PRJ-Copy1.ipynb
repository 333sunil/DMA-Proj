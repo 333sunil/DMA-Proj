{
 "cells": [
  {
   "cell_type": "markdown",
   "metadata": {
    "collapsed": true
   },
   "source": [
    "#  Title:                             Groupo Bimbo Inventory Demand"
   ]
  },
  {
   "cell_type": "markdown",
   "metadata": {},
   "source": [
    "# Problem Statement: Predicting the demand of product for a given week, at a particular store"
   ]
  },
  {
   "cell_type": "markdown",
   "metadata": {},
   "source": [
    "# Team Details\n",
    "\n",
    "\n",
    "\n",
    "\n",
    "\n"
   ]
  },
  {
   "cell_type": "markdown",
   "metadata": {},
   "source": [
    "Name           Roll_num"
   ]
  },
  {
   "cell_type": "markdown",
   "metadata": {},
   "source": [
    "Sunil          324"
   ]
  },
  {
   "cell_type": "markdown",
   "metadata": {},
   "source": [
    "Vachana        327"
   ]
  },
  {
   "cell_type": "markdown",
   "metadata": {},
   "source": [
    "Veeresh        330"
   ]
  },
  {
   "cell_type": "markdown",
   "metadata": {},
   "source": [
    "Vijayalaxmi    333"
   ]
  },
  {
   "cell_type": "code",
   "execution_count": 1,
   "metadata": {
    "collapsed": true
   },
   "outputs": [],
   "source": [
    "import math\n",
    "import pandas as pd\n",
    "import re\n",
    "import numpy as np\n",
    "import matplotlib.pyplot as plt\n",
    "import seaborn as sns\n",
    "%pylab inline"
   ]
  },
  {
   "cell_type": "markdown",
   "metadata": {},
   "source": [
    "# Read data"
   ]
  },
  {
   "cell_type": "code",
   "execution_count": 10,
   "metadata": {
    "collapsed": true
   },
   "outputs": [],
   "source": [
    "client = pd.read_csv('client.csv')\n",
    "product = pd.read_csv('product.csv')\n",
    "town = pd.read_csv('town_state.csv')\n",
    "\n",
    "#change column names for undesratnding purpose\n",
    "client.columns = ['Client_ID', 'Client_name']\n",
    "product.columns = ['Product_ID', 'Product_Name']\n",
    "town.columns = ['Sales_Depot_ID', 'Town', 'State']"
   ]
  },
  {
   "cell_type": "markdown",
   "metadata": {},
   "source": [
    "# Preprocess Client data"
   ]
  },
  {
   "cell_type": "markdown",
   "metadata": {},
   "source": [
    "Check for null values in client data"
   ]
  },
  {
   "cell_type": "code",
   "execution_count": 11,
   "metadata": {},
   "outputs": [
    {
     "data": {
      "text/plain": [
       "False"
      ]
     },
     "execution_count": 11,
     "metadata": {},
     "output_type": "execute_result"
    }
   ],
   "source": [
    "client.isnull().values.any()"
   ]
  },
  {
   "cell_type": "markdown",
   "metadata": {},
   "source": [
    "Drop duplicate client values\n",
    "\n",
    "in client table some words mean not defiened"
   ]
  },
  {
   "cell_type": "code",
   "execution_count": 12,
   "metadata": {},
   "outputs": [
    {
     "name": "stdout",
     "output_type": "stream",
     "text": [
      "935362\n",
      "930500\n"
     ]
    }
   ],
   "source": [
    "print(client.shape[0])\n",
    "client.drop_duplicates(['Client_ID'],keep='first',inplace=True)\n",
    "print(client.shape[0])\n",
    "\n",
    "client.loc[(client['Client_name'] == 'NO IDENTIFICADO') | (client['Client_name'] == 'SIN NOMBRE') |\n",
    "           (client['Client_name'] == 'INACTIVAR NO TOCAR') ,'Client_name' ] = 'NO_Name'"
   ]
  },
  {
   "cell_type": "markdown",
   "metadata": {},
   "source": [
    "# Town-state table preprocessing"
   ]
  },
  {
   "cell_type": "markdown",
   "metadata": {},
   "source": [
    "check for null values in table"
   ]
  },
  {
   "cell_type": "code",
   "execution_count": 5,
   "metadata": {},
   "outputs": [
    {
     "data": {
      "text/plain": [
       "False"
      ]
     },
     "execution_count": 5,
     "metadata": {},
     "output_type": "execute_result"
    }
   ],
   "source": [
    "town.isnull().values.any()"
   ]
  },
  {
   "cell_type": "markdown",
   "metadata": {},
   "source": [
    "check for duplicate departments"
   ]
  },
  {
   "cell_type": "code",
   "execution_count": 6,
   "metadata": {},
   "outputs": [
    {
     "name": "stdout",
     "output_type": "stream",
     "text": [
      "790\n",
      "790\n"
     ]
    }
   ],
   "source": [
    "print(town.shape[0])\n",
    "town.drop_duplicates(['Sales_Depot_ID'],keep='first',inplace=True)\n",
    "print(town.shape[0])"
   ]
  },
  {
   "cell_type": "markdown",
   "metadata": {},
   "source": [
    "we are using regular expression to format text\n",
    "\n",
    "repalcing space with underscore\n",
    "\n",
    "replacing non-alphabetic values"
   ]
  },
  {
   "cell_type": "code",
   "execution_count": 13,
   "metadata": {},
   "outputs": [
    {
     "data": {
      "text/html": [
       "<div>\n",
       "<style>\n",
       "    .dataframe thead tr:only-child th {\n",
       "        text-align: right;\n",
       "    }\n",
       "\n",
       "    .dataframe thead th {\n",
       "        text-align: left;\n",
       "    }\n",
       "\n",
       "    .dataframe tbody tr th {\n",
       "        vertical-align: top;\n",
       "    }\n",
       "</style>\n",
       "<table border=\"1\" class=\"dataframe\">\n",
       "  <thead>\n",
       "    <tr style=\"text-align: right;\">\n",
       "      <th></th>\n",
       "      <th>Sales_Depot_ID</th>\n",
       "      <th>Town</th>\n",
       "      <th>State</th>\n",
       "    </tr>\n",
       "  </thead>\n",
       "  <tbody>\n",
       "    <tr>\n",
       "      <th>0</th>\n",
       "      <td>1110</td>\n",
       "      <td>AG_LAGO_FILT</td>\n",
       "      <td>MÉXICO_DF</td>\n",
       "    </tr>\n",
       "    <tr>\n",
       "      <th>1</th>\n",
       "      <td>1111</td>\n",
       "      <td>AG_AZCAPOTZALCO</td>\n",
       "      <td>MÉXICO_DF</td>\n",
       "    </tr>\n",
       "    <tr>\n",
       "      <th>2</th>\n",
       "      <td>1112</td>\n",
       "      <td>AG_CUAUTITLAN</td>\n",
       "      <td>ESTADO_DE_MÉXICO</td>\n",
       "    </tr>\n",
       "    <tr>\n",
       "      <th>3</th>\n",
       "      <td>1113</td>\n",
       "      <td>AG_LAGO_FILT</td>\n",
       "      <td>MÉXICO_DF</td>\n",
       "    </tr>\n",
       "    <tr>\n",
       "      <th>4</th>\n",
       "      <td>1114</td>\n",
       "      <td>AGIZTAPALAPA_</td>\n",
       "      <td>MÉXICO_DF</td>\n",
       "    </tr>\n",
       "  </tbody>\n",
       "</table>\n",
       "</div>"
      ],
      "text/plain": [
       "   Sales_Depot_ID             Town             State\n",
       "0            1110     AG_LAGO_FILT         MÉXICO_DF\n",
       "1            1111  AG_AZCAPOTZALCO         MÉXICO_DF\n",
       "2            1112    AG_CUAUTITLAN  ESTADO_DE_MÉXICO\n",
       "3            1113     AG_LAGO_FILT         MÉXICO_DF\n",
       "4            1114    AGIZTAPALAPA_         MÉXICO_DF"
      ]
     },
     "execution_count": 13,
     "metadata": {},
     "output_type": "execute_result"
    }
   ],
   "source": [
    "town['Town'] = town['Town'].str.replace('^([^\\s]+)\\s', '')\n",
    "town['Town'] = town['Town'].str.replace('\\d+', '')\n",
    "town['Town'] = town['Town'].str.replace('.','')\n",
    "town['Town'] = town['Town'].str.replace(' ','_')\n",
    "town['Town'] = town['Town'].str.replace('Ã\\s*','AN')\n",
    "town['State'] = town['State'].str.replace(',','')\n",
    "town['State'] = town['State'].str.replace('.','')\n",
    "town['State'] = town['State'].str.replace(' ','_')\n",
    "town.head()"
   ]
  },
  {
   "cell_type": "markdown",
   "metadata": {},
   "source": [
    "# Preprocess Product data"
   ]
  },
  {
   "cell_type": "markdown",
   "metadata": {},
   "source": [
    "In product table product name column is combined with all the other information. We have to extract all the values to correct columns.\n",
    "\n",
    "We have used regular expressions to separate the values."
   ]
  },
  {
   "cell_type": "code",
   "execution_count": 8,
   "metadata": {},
   "outputs": [
    {
     "data": {
      "text/plain": [
       "False"
      ]
     },
     "execution_count": 8,
     "metadata": {},
     "output_type": "execute_result"
    }
   ],
   "source": [
    "product.isnull().values.any()"
   ]
  },
  {
   "cell_type": "code",
   "execution_count": 14,
   "metadata": {},
   "outputs": [
    {
     "name": "stdout",
     "output_type": "stream",
     "text": [
      "2592\n",
      "2592\n"
     ]
    }
   ],
   "source": [
    "print(product.shape[0])\n",
    "product.drop_duplicates(['Product_ID'],keep='first',inplace=True)\n",
    "print(product.shape[0])"
   ]
  },
  {
   "cell_type": "code",
   "execution_count": 15,
   "metadata": {},
   "outputs": [
    {
     "data": {
      "text/html": [
       "<div>\n",
       "<style>\n",
       "    .dataframe thead tr:only-child th {\n",
       "        text-align: right;\n",
       "    }\n",
       "\n",
       "    .dataframe thead th {\n",
       "        text-align: left;\n",
       "    }\n",
       "\n",
       "    .dataframe tbody tr th {\n",
       "        vertical-align: top;\n",
       "    }\n",
       "</style>\n",
       "<table border=\"1\" class=\"dataframe\">\n",
       "  <thead>\n",
       "    <tr style=\"text-align: right;\">\n",
       "      <th></th>\n",
       "      <th>Product_ID</th>\n",
       "      <th>product_name</th>\n",
       "      <th>brand</th>\n",
       "      <th>weight</th>\n",
       "      <th>pieces</th>\n",
       "    </tr>\n",
       "  </thead>\n",
       "  <tbody>\n",
       "    <tr>\n",
       "      <th>0</th>\n",
       "      <td>0</td>\n",
       "      <td>NO</td>\n",
       "      <td>IDENTIFICADO</td>\n",
       "      <td>NaN</td>\n",
       "      <td>1.0</td>\n",
       "    </tr>\n",
       "    <tr>\n",
       "      <th>1</th>\n",
       "      <td>9</td>\n",
       "      <td>Capuccino Moka</td>\n",
       "      <td>NES</td>\n",
       "      <td>750.0</td>\n",
       "      <td>1.0</td>\n",
       "    </tr>\n",
       "    <tr>\n",
       "      <th>2</th>\n",
       "      <td>41</td>\n",
       "      <td>Bimbollos Ext sAjonjoli</td>\n",
       "      <td>BIM</td>\n",
       "      <td>480.0</td>\n",
       "      <td>6.0</td>\n",
       "    </tr>\n",
       "    <tr>\n",
       "      <th>3</th>\n",
       "      <td>53</td>\n",
       "      <td>Burritos Sincro</td>\n",
       "      <td>LON</td>\n",
       "      <td>170.0</td>\n",
       "      <td>1.0</td>\n",
       "    </tr>\n",
       "    <tr>\n",
       "      <th>4</th>\n",
       "      <td>72</td>\n",
       "      <td>Div Tira Mini Doradita</td>\n",
       "      <td>TR</td>\n",
       "      <td>45.0</td>\n",
       "      <td>4.0</td>\n",
       "    </tr>\n",
       "  </tbody>\n",
       "</table>\n",
       "</div>"
      ],
      "text/plain": [
       "   Product_ID              product_name         brand  weight  pieces\n",
       "0           0                        NO  IDENTIFICADO     NaN     1.0\n",
       "1           9           Capuccino Moka            NES   750.0     1.0\n",
       "2          41  Bimbollos Ext sAjonjoli            BIM   480.0     6.0\n",
       "3          53          Burritos Sincro            LON   170.0     1.0\n",
       "4          72   Div Tira Mini Doradita             TR    45.0     4.0"
      ]
     },
     "execution_count": 15,
     "metadata": {},
     "output_type": "execute_result"
    }
   ],
   "source": [
    "id_list = product['Product_ID'].values\n",
    "name_list = product['Product_Name'].values\n",
    "num_product = name_list.shape[0]\n",
    "\n",
    "product_weight_list = np.empty(num_product)\n",
    "product_weight_list[:] = np.NAN\n",
    "product_piece_list = np.ones(num_product)\n",
    "product_brand_list = list()\n",
    "product_short_name_list = list()\n",
    "\n",
    "product_info_list = zip(id_list,name_list)\n",
    "\n",
    "#extract weight,piece,brand and prod_name\n",
    "\n",
    "regex_piece_weight = re.compile(r'(.*?)(\\d+)(p|P).*?(\\d+)\\s*(kg|Kg|g|G|ml)') #check for line with piece first and then weight\n",
    "regex_weight_piece = re.compile(r'(.*?)(\\d+)\\s*(kg|Kg|g|G|ml).*?(\\d+)(p|P)') #opp of first\n",
    "regex_weight = re.compile(r'(.*?)(\\d+)\\s*(kg|Kg|g|G|ml)')  #line with only weights\n",
    "regex_piece = re.compile(r'(.*?)(\\d+)(p|P)(?!ct|CT)')  #line with only piece\n",
    "\n",
    "dont_know_list = ['MTB', 'MTA', 'TNB', 'CU', 'TAB']\n",
    "\n",
    "for i, (product_id, orig_product_name) in enumerate(product_info_list):\n",
    "    product_name = orig_product_name.rstrip(str(product_id)).strip()\n",
    "    \n",
    "    product_name_words = product_name.split()   \n",
    "    \n",
    "    if re.search(regex_piece_weight, product_name):\n",
    "        regex_result = re.search(regex_piece_weight, product_name)\n",
    "        product_weight_list[i] = float(regex_result.group(4))\n",
    "        product_piece_list[i] = int(regex_result.group(2))\n",
    "        product_short_name = regex_result.group(1)\n",
    "        if regex_result.group(5) == 'kg' or regex_result.group(5) == 'Kg':       #replace kg values with gram\n",
    "            product_weight_list[i] *= 1000\n",
    "            \n",
    "    elif re.search(regex_weight_piece, product_name):\n",
    "        regex_result = re.search(regex_weight_piece, product_name)\n",
    "        product_weight_list[i] = float(regex_result.group(2))\n",
    "        product_piece_list[i] = int(regex_result.group(4))\n",
    "        if regex_result.group(3) == 'kg' or regex_result.group(3) == 'Kg': \n",
    "            product_weight_list[i] *= 1000\n",
    "        product_short_name = regex_result.group(1)\n",
    "        \n",
    "    elif re.search(regex_weight, product_name):\n",
    "        regex_result = re.search(regex_weight, product_name)\n",
    "        product_weight_list[i] = float(regex_result.group(2))\n",
    "        if regex_result.group(3) == 'kg' or regex_result.group(3) == 'Kg':\n",
    "            product_weight_list[i] *= 1000\n",
    "        product_short_name = regex_result.group(1)\n",
    "        \n",
    "    elif re.search(regex_piece, product_name):\n",
    "        regex_result = re.search(regex_piece, product_name)\n",
    "        product_piece_list[i] = int(regex_result.group(2))\n",
    "        product_short_name = regex_result.group(1) \n",
    "        \n",
    "        #After separating out values ,still there are some values attached with product name.Remove them\n",
    "    else:\n",
    "        product_short_name = ' '.join([word for word in product_name_words[:-1] if word not in dont_know_list])\n",
    "        \n",
    "    product_brand_list.append(product_name_words[-1])\n",
    "    product_short_name_list.append(product_short_name)\n",
    "    \n",
    "product['product_name'] = product_short_name_list\n",
    "product['brand'] = product_brand_list\n",
    "product['weight'] = product_weight_list\n",
    "product['pieces'] = product_piece_list\n",
    "\n",
    "product.drop('Product_Name',axis = 1,inplace=True)\n",
    "product.head()"
   ]
  },
  {
   "cell_type": "code",
   "execution_count": 10,
   "metadata": {},
   "outputs": [
    {
     "data": {
      "text/html": [
       "<div>\n",
       "<style>\n",
       "    .dataframe thead tr:only-child th {\n",
       "        text-align: right;\n",
       "    }\n",
       "\n",
       "    .dataframe thead th {\n",
       "        text-align: left;\n",
       "    }\n",
       "\n",
       "    .dataframe tbody tr th {\n",
       "        vertical-align: top;\n",
       "    }\n",
       "</style>\n",
       "<table border=\"1\" class=\"dataframe\">\n",
       "  <thead>\n",
       "    <tr style=\"text-align: right;\">\n",
       "      <th></th>\n",
       "      <th>weight</th>\n",
       "      <th>pieces</th>\n",
       "    </tr>\n",
       "  </thead>\n",
       "  <tbody>\n",
       "    <tr>\n",
       "      <th>count</th>\n",
       "      <td>2541.000000</td>\n",
       "      <td>2592.000000</td>\n",
       "    </tr>\n",
       "    <tr>\n",
       "      <th>mean</th>\n",
       "      <td>413.480913</td>\n",
       "      <td>6.520448</td>\n",
       "    </tr>\n",
       "    <tr>\n",
       "      <th>std</th>\n",
       "      <td>1764.304179</td>\n",
       "      <td>13.941169</td>\n",
       "    </tr>\n",
       "    <tr>\n",
       "      <th>min</th>\n",
       "      <td>4.000000</td>\n",
       "      <td>0.000000</td>\n",
       "    </tr>\n",
       "    <tr>\n",
       "      <th>25%</th>\n",
       "      <td>80.000000</td>\n",
       "      <td>1.000000</td>\n",
       "    </tr>\n",
       "    <tr>\n",
       "      <th>50%</th>\n",
       "      <td>180.000000</td>\n",
       "      <td>1.000000</td>\n",
       "    </tr>\n",
       "    <tr>\n",
       "      <th>75%</th>\n",
       "      <td>400.000000</td>\n",
       "      <td>8.000000</td>\n",
       "    </tr>\n",
       "    <tr>\n",
       "      <th>max</th>\n",
       "      <td>42000.000000</td>\n",
       "      <td>200.000000</td>\n",
       "    </tr>\n",
       "  </tbody>\n",
       "</table>\n",
       "</div>"
      ],
      "text/plain": [
       "             weight       pieces\n",
       "count   2541.000000  2592.000000\n",
       "mean     413.480913     6.520448\n",
       "std     1764.304179    13.941169\n",
       "min        4.000000     0.000000\n",
       "25%       80.000000     1.000000\n",
       "50%      180.000000     1.000000\n",
       "75%      400.000000     8.000000\n",
       "max    42000.000000   200.000000"
      ]
     },
     "execution_count": 10,
     "metadata": {},
     "output_type": "execute_result"
    }
   ],
   "source": [
    "P = product[['weight','pieces']]\n",
    "P.describe()"
   ]
  },
  {
   "cell_type": "markdown",
   "metadata": {},
   "source": [
    "Repalce weight with median values. Because some weight values are very high,which increases mean value."
   ]
  },
  {
   "cell_type": "code",
   "execution_count": 16,
   "metadata": {},
   "outputs": [
    {
     "data": {
      "text/html": [
       "<div>\n",
       "<style>\n",
       "    .dataframe thead tr:only-child th {\n",
       "        text-align: right;\n",
       "    }\n",
       "\n",
       "    .dataframe thead th {\n",
       "        text-align: left;\n",
       "    }\n",
       "\n",
       "    .dataframe tbody tr th {\n",
       "        vertical-align: top;\n",
       "    }\n",
       "</style>\n",
       "<table border=\"1\" class=\"dataframe\">\n",
       "  <thead>\n",
       "    <tr style=\"text-align: right;\">\n",
       "      <th></th>\n",
       "      <th>Product_ID</th>\n",
       "      <th>product_name</th>\n",
       "      <th>brand</th>\n",
       "      <th>weight</th>\n",
       "      <th>pieces</th>\n",
       "    </tr>\n",
       "  </thead>\n",
       "  <tbody>\n",
       "    <tr>\n",
       "      <th>0</th>\n",
       "      <td>0</td>\n",
       "      <td>NO</td>\n",
       "      <td>IDENTIFICADO</td>\n",
       "      <td>80.0</td>\n",
       "      <td>1.0</td>\n",
       "    </tr>\n",
       "    <tr>\n",
       "      <th>1</th>\n",
       "      <td>9</td>\n",
       "      <td>Capuccino Moka</td>\n",
       "      <td>NES</td>\n",
       "      <td>750.0</td>\n",
       "      <td>1.0</td>\n",
       "    </tr>\n",
       "    <tr>\n",
       "      <th>2</th>\n",
       "      <td>41</td>\n",
       "      <td>Bimbollos Ext sAjonjoli</td>\n",
       "      <td>BIM</td>\n",
       "      <td>480.0</td>\n",
       "      <td>6.0</td>\n",
       "    </tr>\n",
       "    <tr>\n",
       "      <th>3</th>\n",
       "      <td>53</td>\n",
       "      <td>Burritos Sincro</td>\n",
       "      <td>LON</td>\n",
       "      <td>170.0</td>\n",
       "      <td>1.0</td>\n",
       "    </tr>\n",
       "    <tr>\n",
       "      <th>4</th>\n",
       "      <td>72</td>\n",
       "      <td>Div Tira Mini Doradita</td>\n",
       "      <td>TR</td>\n",
       "      <td>45.0</td>\n",
       "      <td>4.0</td>\n",
       "    </tr>\n",
       "  </tbody>\n",
       "</table>\n",
       "</div>"
      ],
      "text/plain": [
       "   Product_ID              product_name         brand  weight  pieces\n",
       "0           0                        NO  IDENTIFICADO    80.0     1.0\n",
       "1           9           Capuccino Moka            NES   750.0     1.0\n",
       "2          41  Bimbollos Ext sAjonjoli            BIM   480.0     6.0\n",
       "3          53          Burritos Sincro            LON   170.0     1.0\n",
       "4          72   Div Tira Mini Doradita             TR    45.0     4.0"
      ]
     },
     "execution_count": 16,
     "metadata": {},
     "output_type": "execute_result"
    }
   ],
   "source": [
    "product['weight'].fillna(80,inplace=True)\n",
    "product.head()"
   ]
  },
  {
   "cell_type": "markdown",
   "metadata": {},
   "source": [
    "For mining we have directly selected week,dept_id,client,product  combination.\n",
    "\n",
    "Because we predicting adjusted demand for each client of for a given week and product."
   ]
  },
  {
   "cell_type": "markdown",
   "metadata": {},
   "source": [
    "Graph diplay product weight desctribution"
   ]
  },
  {
   "cell_type": "code",
   "execution_count": 5,
   "metadata": {},
   "outputs": [
    {
     "data": {
      "image/png": "[encoded data removed]",
      "text/plain": [
       "<matplotlib.figure.Figure at 0x1ffcee79e10>"
      ]
     },
     "metadata": {},
     "output_type": "display_data"
    }
   ],
   "source": [
    "product['weight'].plot()\n",
    "plt.show()"
   ]
  },
  {
   "cell_type": "code",
   "execution_count": 6,
   "metadata": {},
   "outputs": [
    {
     "data": {
      "image/png": "[encoded data removed]",
      "text/plain": [
       "<matplotlib.figure.Figure at 0x1ffd042d7f0>"
      ]
     },
     "metadata": {},
     "output_type": "display_data"
    }
   ],
   "source": [
    "df=product['brand'].value_counts()\n",
    "df.plot(kind='bar', legend=True,figsize=(15,10))\n",
    "plt.xlabel('Brand')\n",
    "sns.despine()"
   ]
  },
  {
   "cell_type": "code",
   "execution_count": 17,
   "metadata": {},
   "outputs": [
    {
     "data": {
      "text/html": [
       "<div>\n",
       "<style>\n",
       "    .dataframe thead tr:only-child th {\n",
       "        text-align: right;\n",
       "    }\n",
       "\n",
       "    .dataframe thead th {\n",
       "        text-align: left;\n",
       "    }\n",
       "\n",
       "    .dataframe tbody tr th {\n",
       "        vertical-align: top;\n",
       "    }\n",
       "</style>\n",
       "<table border=\"1\" class=\"dataframe\">\n",
       "  <thead>\n",
       "    <tr style=\"text-align: right;\">\n",
       "      <th></th>\n",
       "      <th>Week_number</th>\n",
       "      <th>Sales_Depot_ID</th>\n",
       "      <th>Client_ID</th>\n",
       "      <th>Product_ID</th>\n",
       "      <th>Sales_unit_this_week</th>\n",
       "      <th>Returns_unit_next_week</th>\n",
       "      <th>Adjusted_Demand</th>\n",
       "    </tr>\n",
       "  </thead>\n",
       "  <tbody>\n",
       "    <tr>\n",
       "      <th>0</th>\n",
       "      <td>3</td>\n",
       "      <td>1110</td>\n",
       "      <td>15766</td>\n",
       "      <td>1212</td>\n",
       "      <td>3</td>\n",
       "      <td>0</td>\n",
       "      <td>3</td>\n",
       "    </tr>\n",
       "    <tr>\n",
       "      <th>1</th>\n",
       "      <td>3</td>\n",
       "      <td>1110</td>\n",
       "      <td>15766</td>\n",
       "      <td>1216</td>\n",
       "      <td>4</td>\n",
       "      <td>0</td>\n",
       "      <td>4</td>\n",
       "    </tr>\n",
       "    <tr>\n",
       "      <th>2</th>\n",
       "      <td>3</td>\n",
       "      <td>1110</td>\n",
       "      <td>15766</td>\n",
       "      <td>1238</td>\n",
       "      <td>4</td>\n",
       "      <td>0</td>\n",
       "      <td>4</td>\n",
       "    </tr>\n",
       "    <tr>\n",
       "      <th>3</th>\n",
       "      <td>3</td>\n",
       "      <td>1110</td>\n",
       "      <td>15766</td>\n",
       "      <td>1240</td>\n",
       "      <td>4</td>\n",
       "      <td>0</td>\n",
       "      <td>4</td>\n",
       "    </tr>\n",
       "    <tr>\n",
       "      <th>4</th>\n",
       "      <td>3</td>\n",
       "      <td>1110</td>\n",
       "      <td>15766</td>\n",
       "      <td>1242</td>\n",
       "      <td>3</td>\n",
       "      <td>0</td>\n",
       "      <td>3</td>\n",
       "    </tr>\n",
       "  </tbody>\n",
       "</table>\n",
       "</div>"
      ],
      "text/plain": [
       "   Week_number  Sales_Depot_ID  Client_ID  Product_ID  Sales_unit_this_week  \\\n",
       "0            3            1110      15766        1212                     3   \n",
       "1            3            1110      15766        1216                     4   \n",
       "2            3            1110      15766        1238                     4   \n",
       "3            3            1110      15766        1240                     4   \n",
       "4            3            1110      15766        1242                     3   \n",
       "\n",
       "   Returns_unit_next_week  Adjusted_Demand  \n",
       "0                       0                3  \n",
       "1                       0                4  \n",
       "2                       0                4  \n",
       "3                       0                4  \n",
       "4                       0                3  "
      ]
     },
     "execution_count": 17,
     "metadata": {},
     "output_type": "execute_result"
    }
   ],
   "source": [
    "train = pd.read_csv('train.csv',nrows=22174800,header = 0,index_col=None,usecols=[0,1,4,5,6,8,10],\n",
    "                    dtype={'Semana':np.uint8,'Agencia_ID':np.uint16,'Cliente_ID':np.uint16,'Producto_ID':np.uint16,\n",
    "                    'Venta_uni_hoy':np.uint32,'Dev_uni_proxima':np.uint32,'Demanda_uni_equil':np.uint32})\n",
    "\n",
    "train.columns =['Week_number','Sales_Depot_ID','Client_ID','Product_ID','Sales_unit_this_week','Returns_unit_next_week','Adjusted_Demand']\n",
    "train.head()"
   ]
  },
  {
   "cell_type": "markdown",
   "metadata": {},
   "source": [
    "Check for any minssing values in any of the tuples."
   ]
  },
  {
   "cell_type": "code",
   "execution_count": 13,
   "metadata": {},
   "outputs": [
    {
     "data": {
      "text/plain": [
       "False"
      ]
     },
     "execution_count": 13,
     "metadata": {},
     "output_type": "execute_result"
    }
   ],
   "source": [
    "train.isnull().values.any()"
   ]
  },
  {
   "cell_type": "markdown",
   "metadata": {},
   "source": [
    "Check for duplicate values considering all features."
   ]
  },
  {
   "cell_type": "code",
   "execution_count": 18,
   "metadata": {},
   "outputs": [
    {
     "name": "stdout",
     "output_type": "stream",
     "text": [
      "22174800\n",
      "22149427\n",
      "Duplicate Percentage : 0.11442267799484099\n"
     ]
    }
   ],
   "source": [
    "print(train.shape[0])\n",
    "orginal = train.shape[0]\n",
    "train.drop_duplicates(subset=['Week_number','Sales_Depot_ID','Client_ID','Product_ID','Sales_unit_this_week','Returns_unit_next_week','Adjusted_Demand'],keep='first', inplace=True)\n",
    "print(train.shape[0])\n",
    "duplicate = orginal-train.shape[0]\n",
    "\n",
    "percentage = (duplicate/orginal)*100\n",
    "print(\"Duplicate Percentage :\",percentage)"
   ]
  },
  {
   "cell_type": "markdown",
   "metadata": {},
   "source": [
    "In some tuples returned units are greater than sales units,which is not possible.\n",
    "We can't drop such columns, because such tuples contains unique set of attributes, droping may affect predicting values for such \n",
    "features.\n",
    "In such tuples swap the values.\n",
    "\n",
    "Repalce the 0 values in adjusted column with the difference between the sales unit and returned unit."
   ]
  },
  {
   "cell_type": "code",
   "execution_count": 19,
   "metadata": {},
   "outputs": [
    {
     "name": "stdout",
     "output_type": "stream",
     "text": [
      "167915\n",
      "361350\n"
     ]
    },
    {
     "data": {
      "text/html": [
       "<div>\n",
       "<style>\n",
       "    .dataframe thead tr:only-child th {\n",
       "        text-align: right;\n",
       "    }\n",
       "\n",
       "    .dataframe thead th {\n",
       "        text-align: left;\n",
       "    }\n",
       "\n",
       "    .dataframe tbody tr th {\n",
       "        vertical-align: top;\n",
       "    }\n",
       "</style>\n",
       "<table border=\"1\" class=\"dataframe\">\n",
       "  <thead>\n",
       "    <tr style=\"text-align: right;\">\n",
       "      <th></th>\n",
       "      <th>Week_number</th>\n",
       "      <th>Sales_Depot_ID</th>\n",
       "      <th>Client_ID</th>\n",
       "      <th>Product_ID</th>\n",
       "      <th>Sales_unit_this_week</th>\n",
       "      <th>Returns_unit_next_week</th>\n",
       "      <th>Adjusted_Demand</th>\n",
       "    </tr>\n",
       "  </thead>\n",
       "  <tbody>\n",
       "    <tr>\n",
       "      <th>0</th>\n",
       "      <td>3</td>\n",
       "      <td>1110</td>\n",
       "      <td>15766</td>\n",
       "      <td>1212</td>\n",
       "      <td>3</td>\n",
       "      <td>0</td>\n",
       "      <td>3</td>\n",
       "    </tr>\n",
       "    <tr>\n",
       "      <th>1</th>\n",
       "      <td>3</td>\n",
       "      <td>1110</td>\n",
       "      <td>15766</td>\n",
       "      <td>1216</td>\n",
       "      <td>4</td>\n",
       "      <td>0</td>\n",
       "      <td>4</td>\n",
       "    </tr>\n",
       "    <tr>\n",
       "      <th>2</th>\n",
       "      <td>3</td>\n",
       "      <td>1110</td>\n",
       "      <td>15766</td>\n",
       "      <td>1238</td>\n",
       "      <td>4</td>\n",
       "      <td>0</td>\n",
       "      <td>4</td>\n",
       "    </tr>\n",
       "    <tr>\n",
       "      <th>3</th>\n",
       "      <td>3</td>\n",
       "      <td>1110</td>\n",
       "      <td>15766</td>\n",
       "      <td>1240</td>\n",
       "      <td>4</td>\n",
       "      <td>0</td>\n",
       "      <td>4</td>\n",
       "    </tr>\n",
       "    <tr>\n",
       "      <th>4</th>\n",
       "      <td>3</td>\n",
       "      <td>1110</td>\n",
       "      <td>15766</td>\n",
       "      <td>1242</td>\n",
       "      <td>3</td>\n",
       "      <td>0</td>\n",
       "      <td>3</td>\n",
       "    </tr>\n",
       "  </tbody>\n",
       "</table>\n",
       "</div>"
      ],
      "text/plain": [
       "   Week_number  Sales_Depot_ID  Client_ID  Product_ID  Sales_unit_this_week  \\\n",
       "0            3            1110      15766        1212                     3   \n",
       "1            3            1110      15766        1216                     4   \n",
       "2            3            1110      15766        1238                     4   \n",
       "3            3            1110      15766        1240                     4   \n",
       "4            3            1110      15766        1242                     3   \n",
       "\n",
       "   Returns_unit_next_week  Adjusted_Demand  \n",
       "0                       0                3  \n",
       "1                       0                4  \n",
       "2                       0                4  \n",
       "3                       0                4  \n",
       "4                       0                3  "
      ]
     },
     "execution_count": 19,
     "metadata": {},
     "output_type": "execute_result"
    }
   ],
   "source": [
    "print(train.loc[train['Returns_unit_next_week'] > train['Sales_unit_this_week']].shape[0])\n",
    "print(train['Adjusted_Demand'].loc[train['Adjusted_Demand'] ==0].count())\n",
    "\n",
    "train.loc[train['Returns_unit_next_week'] > train['Sales_unit_this_week'],['Sales_unit_this_week', 'Returns_unit_next_week']]= \\\n",
    "train.loc[train['Returns_unit_next_week'] > train['Sales_unit_this_week'],['Returns_unit_next_week','Sales_unit_this_week']].values\n",
    "\n",
    "train['Diff']=train['Sales_unit_this_week']-train['Returns_unit_next_week']\n",
    "train.loc[(train['Adjusted_Demand'] == 0) & (train['Sales_unit_this_week'] != train['Returns_unit_next_week']),['Adjusted_Demand','Diff']] = \\\n",
    "train.loc[(train['Adjusted_Demand'] == 0) & (train['Sales_unit_this_week'] != train['Returns_unit_next_week']),['Diff','Adjusted_Demand']].values\n",
    "train.drop(['Diff'],axis=1,inplace=True)\n",
    "train.head()"
   ]
  },
  {
   "cell_type": "code",
   "execution_count": 20,
   "metadata": {},
   "outputs": [
    {
     "data": {
      "text/plain": [
       "(9140910, 7)"
      ]
     },
     "execution_count": 20,
     "metadata": {},
     "output_type": "execute_result"
    }
   ],
   "source": [
    "train =pd.merge(train,client,how='inner',on='Client_ID')\n",
    "train =pd.merge(train,town,how='inner',on='Sales_Depot_ID')\n",
    "train.drop(['Client_ID','Sales_Depot_ID','State'],axis=1,inplace=True)\n",
    "train =pd.merge(train,product,how='inner',on='Product_ID') \n",
    "train.drop(['Product_ID','brand','weight','pieces'],axis=1,inplace=True)\n",
    "train.shape"
   ]
  },
  {
   "cell_type": "code",
   "execution_count": 21,
   "metadata": {},
   "outputs": [
    {
     "data": {
      "text/html": [
       "<div>\n",
       "<style>\n",
       "    .dataframe thead tr:only-child th {\n",
       "        text-align: right;\n",
       "    }\n",
       "\n",
       "    .dataframe thead th {\n",
       "        text-align: left;\n",
       "    }\n",
       "\n",
       "    .dataframe tbody tr th {\n",
       "        vertical-align: top;\n",
       "    }\n",
       "</style>\n",
       "<table border=\"1\" class=\"dataframe\">\n",
       "  <thead>\n",
       "    <tr style=\"text-align: right;\">\n",
       "      <th></th>\n",
       "      <th>Week_number</th>\n",
       "      <th>Sales_Depot_ID</th>\n",
       "      <th>Client_ID</th>\n",
       "      <th>Product_ID</th>\n",
       "      <th>Sales_unit_this_week</th>\n",
       "      <th>Returns_unit_next_week</th>\n",
       "      <th>Adjusted_Demand</th>\n",
       "    </tr>\n",
       "  </thead>\n",
       "  <tbody>\n",
       "    <tr>\n",
       "      <th>0</th>\n",
       "      <td>5</td>\n",
       "      <td>1110</td>\n",
       "      <td>15766</td>\n",
       "      <td>1212</td>\n",
       "      <td>5</td>\n",
       "      <td>0</td>\n",
       "      <td>5</td>\n",
       "    </tr>\n",
       "    <tr>\n",
       "      <th>1</th>\n",
       "      <td>5</td>\n",
       "      <td>1110</td>\n",
       "      <td>15766</td>\n",
       "      <td>1216</td>\n",
       "      <td>3</td>\n",
       "      <td>0</td>\n",
       "      <td>3</td>\n",
       "    </tr>\n",
       "    <tr>\n",
       "      <th>2</th>\n",
       "      <td>5</td>\n",
       "      <td>1110</td>\n",
       "      <td>15766</td>\n",
       "      <td>1220</td>\n",
       "      <td>3</td>\n",
       "      <td>0</td>\n",
       "      <td>3</td>\n",
       "    </tr>\n",
       "    <tr>\n",
       "      <th>3</th>\n",
       "      <td>5</td>\n",
       "      <td>1110</td>\n",
       "      <td>15766</td>\n",
       "      <td>1238</td>\n",
       "      <td>1</td>\n",
       "      <td>0</td>\n",
       "      <td>1</td>\n",
       "    </tr>\n",
       "    <tr>\n",
       "      <th>4</th>\n",
       "      <td>5</td>\n",
       "      <td>1110</td>\n",
       "      <td>15766</td>\n",
       "      <td>1242</td>\n",
       "      <td>2</td>\n",
       "      <td>0</td>\n",
       "      <td>2</td>\n",
       "    </tr>\n",
       "  </tbody>\n",
       "</table>\n",
       "</div>"
      ],
      "text/plain": [
       "   Week_number  Sales_Depot_ID  Client_ID  Product_ID  Sales_unit_this_week  \\\n",
       "0            5            1110      15766        1212                     5   \n",
       "1            5            1110      15766        1216                     3   \n",
       "2            5            1110      15766        1220                     3   \n",
       "3            5            1110      15766        1238                     1   \n",
       "4            5            1110      15766        1242                     2   \n",
       "\n",
       "   Returns_unit_next_week  Adjusted_Demand  \n",
       "0                       0                5  \n",
       "1                       0                3  \n",
       "2                       0                3  \n",
       "3                       0                1  \n",
       "4                       0                2  "
      ]
     },
     "execution_count": 21,
     "metadata": {},
     "output_type": "execute_result"
    }
   ],
   "source": [
    "train1 = pd.read_csv('train.csv',skiprows=range(1,22174801),nrows=31190083,header = 0,index_col=None,usecols=[0,1,4,5,6,8,10],\n",
    "                    dtype={'Semana':np.uint8,'Agencia_ID':np.uint16,'Cliente_ID':np.uint16,'Producto_ID':np.uint16,\n",
    "                    'Venta_uni_hoy':np.uint32,'Dev_uni_proxima':np.uint32,'Demanda_uni_equil':np.uint32})\n",
    "\n",
    "train1.columns =['Week_number','Sales_Depot_ID','Client_ID','Product_ID','Sales_unit_this_week','Returns_unit_next_week','Adjusted_Demand']\n",
    "train1.head()"
   ]
  },
  {
   "cell_type": "code",
   "execution_count": 18,
   "metadata": {},
   "outputs": [
    {
     "data": {
      "text/plain": [
       "False"
      ]
     },
     "execution_count": 18,
     "metadata": {},
     "output_type": "execute_result"
    }
   ],
   "source": [
    "train1.isnull().values.any()"
   ]
  },
  {
   "cell_type": "code",
   "execution_count": 22,
   "metadata": {},
   "outputs": [
    {
     "name": "stdout",
     "output_type": "stream",
     "text": [
      "31190083\n",
      "31156351\n",
      "Duplicate Percentage : 0.10814976029400114\n"
     ]
    }
   ],
   "source": [
    "print(train1.shape[0])\n",
    "orginal = train1.shape[0]\n",
    "train1.drop_duplicates(subset=['Week_number','Sales_Depot_ID','Client_ID','Product_ID','Sales_unit_this_week','Returns_unit_next_week','Adjusted_Demand'],keep='first', inplace=True)\n",
    "print(train1.shape[0])\n",
    "duplicate = orginal-train1.shape[0]\n",
    "\n",
    "percentage = (duplicate/orginal)*100\n",
    "print(\"Duplicate Percentage :\",percentage)"
   ]
  },
  {
   "cell_type": "code",
   "execution_count": 23,
   "metadata": {},
   "outputs": [
    {
     "name": "stdout",
     "output_type": "stream",
     "text": [
      "248584\n",
      "553590\n"
     ]
    },
    {
     "data": {
      "text/html": [
       "<div>\n",
       "<style>\n",
       "    .dataframe thead tr:only-child th {\n",
       "        text-align: right;\n",
       "    }\n",
       "\n",
       "    .dataframe thead th {\n",
       "        text-align: left;\n",
       "    }\n",
       "\n",
       "    .dataframe tbody tr th {\n",
       "        vertical-align: top;\n",
       "    }\n",
       "</style>\n",
       "<table border=\"1\" class=\"dataframe\">\n",
       "  <thead>\n",
       "    <tr style=\"text-align: right;\">\n",
       "      <th></th>\n",
       "      <th>Week_number</th>\n",
       "      <th>Sales_Depot_ID</th>\n",
       "      <th>Client_ID</th>\n",
       "      <th>Product_ID</th>\n",
       "      <th>Sales_unit_this_week</th>\n",
       "      <th>Returns_unit_next_week</th>\n",
       "      <th>Adjusted_Demand</th>\n",
       "    </tr>\n",
       "  </thead>\n",
       "  <tbody>\n",
       "    <tr>\n",
       "      <th>0</th>\n",
       "      <td>5</td>\n",
       "      <td>1110</td>\n",
       "      <td>15766</td>\n",
       "      <td>1212</td>\n",
       "      <td>5</td>\n",
       "      <td>0</td>\n",
       "      <td>5</td>\n",
       "    </tr>\n",
       "    <tr>\n",
       "      <th>1</th>\n",
       "      <td>5</td>\n",
       "      <td>1110</td>\n",
       "      <td>15766</td>\n",
       "      <td>1216</td>\n",
       "      <td>3</td>\n",
       "      <td>0</td>\n",
       "      <td>3</td>\n",
       "    </tr>\n",
       "    <tr>\n",
       "      <th>2</th>\n",
       "      <td>5</td>\n",
       "      <td>1110</td>\n",
       "      <td>15766</td>\n",
       "      <td>1220</td>\n",
       "      <td>3</td>\n",
       "      <td>0</td>\n",
       "      <td>3</td>\n",
       "    </tr>\n",
       "    <tr>\n",
       "      <th>3</th>\n",
       "      <td>5</td>\n",
       "      <td>1110</td>\n",
       "      <td>15766</td>\n",
       "      <td>1238</td>\n",
       "      <td>1</td>\n",
       "      <td>0</td>\n",
       "      <td>1</td>\n",
       "    </tr>\n",
       "    <tr>\n",
       "      <th>4</th>\n",
       "      <td>5</td>\n",
       "      <td>1110</td>\n",
       "      <td>15766</td>\n",
       "      <td>1242</td>\n",
       "      <td>2</td>\n",
       "      <td>0</td>\n",
       "      <td>2</td>\n",
       "    </tr>\n",
       "  </tbody>\n",
       "</table>\n",
       "</div>"
      ],
      "text/plain": [
       "   Week_number  Sales_Depot_ID  Client_ID  Product_ID  Sales_unit_this_week  \\\n",
       "0            5            1110      15766        1212                     5   \n",
       "1            5            1110      15766        1216                     3   \n",
       "2            5            1110      15766        1220                     3   \n",
       "3            5            1110      15766        1238                     1   \n",
       "4            5            1110      15766        1242                     2   \n",
       "\n",
       "   Returns_unit_next_week  Adjusted_Demand  \n",
       "0                       0                5  \n",
       "1                       0                3  \n",
       "2                       0                3  \n",
       "3                       0                1  \n",
       "4                       0                2  "
      ]
     },
     "execution_count": 23,
     "metadata": {},
     "output_type": "execute_result"
    }
   ],
   "source": [
    "print(train1.loc[train1['Returns_unit_next_week'] > train1['Sales_unit_this_week']].shape[0])\n",
    "print(train1['Adjusted_Demand'].loc[train1['Adjusted_Demand'] ==0].count())\n",
    "\n",
    "train1.loc[train1['Returns_unit_next_week'] > train1['Sales_unit_this_week'],['Sales_unit_this_week', 'Returns_unit_next_week']]= \\\n",
    "train1.loc[train1['Returns_unit_next_week'] > train1['Sales_unit_this_week'],['Returns_unit_next_week','Sales_unit_this_week']].values\n",
    "\n",
    "train1['Diff']=train1['Sales_unit_this_week']-train1['Returns_unit_next_week']\n",
    "train1.loc[(train1['Adjusted_Demand'] == 0) & (train1['Sales_unit_this_week'] != train1['Returns_unit_next_week']),['Adjusted_Demand','Diff']] = \\\n",
    "train1.loc[(train1['Adjusted_Demand'] == 0) & (train1['Sales_unit_this_week'] != train1['Returns_unit_next_week']),['Diff','Adjusted_Demand']].values\n",
    "train1.drop(['Diff'],axis=1,inplace=True)\n",
    "train1.head()"
   ]
  },
  {
   "cell_type": "code",
   "execution_count": 24,
   "metadata": {},
   "outputs": [
    {
     "data": {
      "text/plain": [
       "(12860050, 7)"
      ]
     },
     "execution_count": 24,
     "metadata": {},
     "output_type": "execute_result"
    }
   ],
   "source": [
    "train1 =pd.merge(train1,client,how='inner',on='Client_ID')\n",
    "train1 =pd.merge(train1,town,how='inner',on='Sales_Depot_ID')\n",
    "train1.drop(['Client_ID','Sales_Depot_ID','State'],axis=1,inplace=True)\n",
    "train1 =pd.merge(train1,product,how='inner',on='Product_ID') \n",
    "train1.drop(['Product_ID','brand','weight','pieces'],axis=1,inplace=True)\n",
    "train1.shape"
   ]
  },
  {
   "cell_type": "code",
   "execution_count": 25,
   "metadata": {},
   "outputs": [
    {
     "name": "stdout",
     "output_type": "stream",
     "text": [
      "22000960\n"
     ]
    },
    {
     "data": {
      "text/html": [
       "<div>\n",
       "<style>\n",
       "    .dataframe thead tr:only-child th {\n",
       "        text-align: right;\n",
       "    }\n",
       "\n",
       "    .dataframe thead th {\n",
       "        text-align: left;\n",
       "    }\n",
       "\n",
       "    .dataframe tbody tr th {\n",
       "        vertical-align: top;\n",
       "    }\n",
       "</style>\n",
       "<table border=\"1\" class=\"dataframe\">\n",
       "  <thead>\n",
       "    <tr style=\"text-align: right;\">\n",
       "      <th></th>\n",
       "      <th>Week_number</th>\n",
       "      <th>Sales_unit_this_week</th>\n",
       "      <th>Returns_unit_next_week</th>\n",
       "      <th>Adjusted_Demand</th>\n",
       "      <th>Client_name</th>\n",
       "      <th>Town</th>\n",
       "      <th>product_name</th>\n",
       "    </tr>\n",
       "  </thead>\n",
       "  <tbody>\n",
       "    <tr>\n",
       "      <th>0</th>\n",
       "      <td>3</td>\n",
       "      <td>3</td>\n",
       "      <td>0</td>\n",
       "      <td>3</td>\n",
       "      <td>PUESTO DE PERIODICOS LAZARO</td>\n",
       "      <td>AG_LAGO_FILT</td>\n",
       "      <td>Roles Canela</td>\n",
       "    </tr>\n",
       "    <tr>\n",
       "      <th>1</th>\n",
       "      <td>4</td>\n",
       "      <td>4</td>\n",
       "      <td>0</td>\n",
       "      <td>4</td>\n",
       "      <td>PUESTO DE PERIODICOS LAZARO</td>\n",
       "      <td>AG_LAGO_FILT</td>\n",
       "      <td>Roles Canela</td>\n",
       "    </tr>\n",
       "    <tr>\n",
       "      <th>2</th>\n",
       "      <td>3</td>\n",
       "      <td>2</td>\n",
       "      <td>0</td>\n",
       "      <td>2</td>\n",
       "      <td>TOMAS GARCIA GUADARRAMA</td>\n",
       "      <td>AG_LAGO_FILT</td>\n",
       "      <td>Roles Canela</td>\n",
       "    </tr>\n",
       "    <tr>\n",
       "      <th>3</th>\n",
       "      <td>4</td>\n",
       "      <td>2</td>\n",
       "      <td>0</td>\n",
       "      <td>2</td>\n",
       "      <td>TOMAS GARCIA GUADARRAMA</td>\n",
       "      <td>AG_LAGO_FILT</td>\n",
       "      <td>Roles Canela</td>\n",
       "    </tr>\n",
       "    <tr>\n",
       "      <th>4</th>\n",
       "      <td>3</td>\n",
       "      <td>2</td>\n",
       "      <td>0</td>\n",
       "      <td>2</td>\n",
       "      <td>ESCUELA CENTRO EDUCATIVO URUAPAN</td>\n",
       "      <td>AG_LAGO_FILT</td>\n",
       "      <td>Roles Canela</td>\n",
       "    </tr>\n",
       "  </tbody>\n",
       "</table>\n",
       "</div>"
      ],
      "text/plain": [
       "   Week_number  Sales_unit_this_week  Returns_unit_next_week  Adjusted_Demand  \\\n",
       "0            3                     3                       0                3   \n",
       "1            4                     4                       0                4   \n",
       "2            3                     2                       0                2   \n",
       "3            4                     2                       0                2   \n",
       "4            3                     2                       0                2   \n",
       "\n",
       "                        Client_name          Town   product_name  \n",
       "0       PUESTO DE PERIODICOS LAZARO  AG_LAGO_FILT  Roles Canela   \n",
       "1       PUESTO DE PERIODICOS LAZARO  AG_LAGO_FILT  Roles Canela   \n",
       "2           TOMAS GARCIA GUADARRAMA  AG_LAGO_FILT  Roles Canela   \n",
       "3           TOMAS GARCIA GUADARRAMA  AG_LAGO_FILT  Roles Canela   \n",
       "4  ESCUELA CENTRO EDUCATIVO URUAPAN  AG_LAGO_FILT  Roles Canela   "
      ]
     },
     "execution_count": 25,
     "metadata": {},
     "output_type": "execute_result"
    }
   ],
   "source": [
    "train = pd.concat((train,train1), axis=0,ignore_index=True)\n",
    "print(train.shape[0])\n",
    "train.head()"
   ]
  },
  {
   "cell_type": "code",
   "execution_count": 28,
   "metadata": {},
   "outputs": [
    {
     "data": {
      "image/png": "[encoded data removed]",
      "text/plain": [
       "<matplotlib.figure.Figure at 0x264d3e36358>"
      ]
     },
     "metadata": {},
     "output_type": "display_data"
    }
   ],
   "source": [
    "t = train[['product_name']]\n",
    "t = t.product_name.value_counts(sort=True)\n",
    "t.head(10).plot(kind='bar', color='red', rot=0,figsize=(13,7))\n",
    "plt.xlabel('Product')\n",
    "sns.despine()\n",
    "del t"
   ]
  },
  {
   "cell_type": "code",
   "execution_count": 51,
   "metadata": {},
   "outputs": [
    {
     "data": {
      "image/png": "[encoded data removed]",
      "text/plain": [
       "<matplotlib.figure.Figure at 0x264806a63c8>"
      ]
     },
     "metadata": {},
     "output_type": "display_data"
    }
   ],
   "source": [
    "train1 = train[['Week_number','Sales_unit_this_week','Returns_unit_next_week','Adjusted_Demand']]\n",
    "x =train1.groupby(['Week_number']).sum()\n",
    "x.plot(kind='line', legend=True,figsize=(12,7))\n",
    "plt.xlabel('Weeks')\n",
    "sns.despine()"
   ]
  },
  {
   "cell_type": "code",
   "execution_count": 14,
   "metadata": {},
   "outputs": [
    {
     "data": {
      "image/png": "[encoded data removed]",
      "text/plain": [
       "<matplotlib.figure.Figure at 0x1ffd081f240>"
      ]
     },
     "metadata": {},
     "output_type": "display_data"
    }
   ],
   "source": [
    "df_train = pd.read_csv('train.csv',usecols=[0,2,6,8,10],dtype={'Semana':int,'Canal_ID':int,'Venta_uni_hoy':int,'Dev_uni_proxima':int,'Demanda_uni_equil':int})\n",
    "df_train.columns =['WeekNum','ChannelId','SalesUnitsWeek','ReturnsUnitsWeek','AdjDemand']\n",
    "y=df_train.groupby(['WeekNum','ChannelId']).sum()\n",
    "y.plot(kind='bar', legend=True,figsize=(15,10))\n",
    "plt.xlabel('Weeks')\n",
    "sns.despine()\n",
    "del df_train"
   ]
  },
  {
   "cell_type": "code",
   "execution_count": 26,
   "metadata": {},
   "outputs": [
    {
     "data": {
      "text/html": [
       "<div>\n",
       "<style>\n",
       "    .dataframe thead tr:only-child th {\n",
       "        text-align: right;\n",
       "    }\n",
       "\n",
       "    .dataframe thead th {\n",
       "        text-align: left;\n",
       "    }\n",
       "\n",
       "    .dataframe tbody tr th {\n",
       "        vertical-align: top;\n",
       "    }\n",
       "</style>\n",
       "<table border=\"1\" class=\"dataframe\">\n",
       "  <thead>\n",
       "    <tr style=\"text-align: right;\">\n",
       "      <th></th>\n",
       "      <th>Week_number</th>\n",
       "      <th>Sales_Depot_ID</th>\n",
       "      <th>Client_ID</th>\n",
       "      <th>Product_ID</th>\n",
       "      <th>Sales_unit_this_week</th>\n",
       "      <th>Returns_unit_next_week</th>\n",
       "      <th>Adjusted_Demand</th>\n",
       "    </tr>\n",
       "  </thead>\n",
       "  <tbody>\n",
       "    <tr>\n",
       "      <th>0</th>\n",
       "      <td>8</td>\n",
       "      <td>1110</td>\n",
       "      <td>15766</td>\n",
       "      <td>1212</td>\n",
       "      <td>4</td>\n",
       "      <td>0</td>\n",
       "      <td>4</td>\n",
       "    </tr>\n",
       "    <tr>\n",
       "      <th>1</th>\n",
       "      <td>8</td>\n",
       "      <td>1110</td>\n",
       "      <td>15766</td>\n",
       "      <td>1216</td>\n",
       "      <td>5</td>\n",
       "      <td>0</td>\n",
       "      <td>5</td>\n",
       "    </tr>\n",
       "    <tr>\n",
       "      <th>2</th>\n",
       "      <td>8</td>\n",
       "      <td>1110</td>\n",
       "      <td>15766</td>\n",
       "      <td>1220</td>\n",
       "      <td>1</td>\n",
       "      <td>0</td>\n",
       "      <td>1</td>\n",
       "    </tr>\n",
       "    <tr>\n",
       "      <th>3</th>\n",
       "      <td>8</td>\n",
       "      <td>1110</td>\n",
       "      <td>15766</td>\n",
       "      <td>1238</td>\n",
       "      <td>3</td>\n",
       "      <td>0</td>\n",
       "      <td>3</td>\n",
       "    </tr>\n",
       "    <tr>\n",
       "      <th>4</th>\n",
       "      <td>8</td>\n",
       "      <td>1110</td>\n",
       "      <td>15766</td>\n",
       "      <td>1240</td>\n",
       "      <td>2</td>\n",
       "      <td>0</td>\n",
       "      <td>2</td>\n",
       "    </tr>\n",
       "  </tbody>\n",
       "</table>\n",
       "</div>"
      ],
      "text/plain": [
       "   Week_number  Sales_Depot_ID  Client_ID  Product_ID  Sales_unit_this_week  \\\n",
       "0            8            1110      15766        1212                     4   \n",
       "1            8            1110      15766        1216                     5   \n",
       "2            8            1110      15766        1220                     1   \n",
       "3            8            1110      15766        1238                     3   \n",
       "4            8            1110      15766        1240                     2   \n",
       "\n",
       "   Returns_unit_next_week  Adjusted_Demand  \n",
       "0                       0                4  \n",
       "1                       0                5  \n",
       "2                       0                1  \n",
       "3                       0                3  \n",
       "4                       0                2  "
      ]
     },
     "execution_count": 26,
     "metadata": {},
     "output_type": "execute_result"
    }
   ],
   "source": [
    "test = pd.read_csv('train.csv',skiprows=range(1,53364884),header = 0,index_col=None,usecols=[0,1,4,5,6,8,10],\n",
    "                     dtype={'Semana':np.uint8,'Agencia_ID':np.uint16,'Cliente_ID':np.uint16,'Producto_ID':np.uint16,\n",
    "                    'Venta_uni_hoy':np.uint32,'Dev_uni_proxima':np.uint32,'Demanda_uni_equil':np.uint32})\n",
    "\n",
    "test.columns =['Week_number','Sales_Depot_ID','Client_ID','Product_ID','Sales_unit_this_week','Returns_unit_next_week','Adjusted_Demand']\n",
    "test.head()"
   ]
  },
  {
   "cell_type": "code",
   "execution_count": 26,
   "metadata": {},
   "outputs": [
    {
     "data": {
      "text/plain": [
       "False"
      ]
     },
     "execution_count": 26,
     "metadata": {},
     "output_type": "execute_result"
    }
   ],
   "source": [
    "test.isnull().values.any()"
   ]
  },
  {
   "cell_type": "code",
   "execution_count": 27,
   "metadata": {},
   "outputs": [
    {
     "name": "stdout",
     "output_type": "stream",
     "text": [
      "20815581\n",
      "20793202\n",
      "Duplicate Percentage : 0.1075108112523979\n"
     ]
    }
   ],
   "source": [
    "print(test.shape[0])\n",
    "orginal = test.shape[0]\n",
    "test.drop_duplicates(subset=['Week_number','Sales_Depot_ID','Client_ID','Product_ID','Sales_unit_this_week','Returns_unit_next_week','Adjusted_Demand'],keep='first', inplace=True)\n",
    "print(test.shape[0])\n",
    "duplicate = orginal-test.shape[0]\n",
    "\n",
    "percentage = (duplicate/orginal)*100\n",
    "print(\"Duplicate Percentage :\",percentage)"
   ]
  },
  {
   "cell_type": "code",
   "execution_count": 28,
   "metadata": {},
   "outputs": [
    {
     "name": "stdout",
     "output_type": "stream",
     "text": [
      "198967\n",
      "421460\n"
     ]
    },
    {
     "data": {
      "text/html": [
       "<div>\n",
       "<style>\n",
       "    .dataframe thead tr:only-child th {\n",
       "        text-align: right;\n",
       "    }\n",
       "\n",
       "    .dataframe thead th {\n",
       "        text-align: left;\n",
       "    }\n",
       "\n",
       "    .dataframe tbody tr th {\n",
       "        vertical-align: top;\n",
       "    }\n",
       "</style>\n",
       "<table border=\"1\" class=\"dataframe\">\n",
       "  <thead>\n",
       "    <tr style=\"text-align: right;\">\n",
       "      <th></th>\n",
       "      <th>Week_number</th>\n",
       "      <th>Sales_Depot_ID</th>\n",
       "      <th>Client_ID</th>\n",
       "      <th>Product_ID</th>\n",
       "      <th>Sales_unit_this_week</th>\n",
       "      <th>Returns_unit_next_week</th>\n",
       "      <th>Adjusted_Demand</th>\n",
       "    </tr>\n",
       "  </thead>\n",
       "  <tbody>\n",
       "    <tr>\n",
       "      <th>0</th>\n",
       "      <td>8</td>\n",
       "      <td>1110</td>\n",
       "      <td>15766</td>\n",
       "      <td>1212</td>\n",
       "      <td>4</td>\n",
       "      <td>0</td>\n",
       "      <td>4</td>\n",
       "    </tr>\n",
       "    <tr>\n",
       "      <th>1</th>\n",
       "      <td>8</td>\n",
       "      <td>1110</td>\n",
       "      <td>15766</td>\n",
       "      <td>1216</td>\n",
       "      <td>5</td>\n",
       "      <td>0</td>\n",
       "      <td>5</td>\n",
       "    </tr>\n",
       "    <tr>\n",
       "      <th>2</th>\n",
       "      <td>8</td>\n",
       "      <td>1110</td>\n",
       "      <td>15766</td>\n",
       "      <td>1220</td>\n",
       "      <td>1</td>\n",
       "      <td>0</td>\n",
       "      <td>1</td>\n",
       "    </tr>\n",
       "    <tr>\n",
       "      <th>3</th>\n",
       "      <td>8</td>\n",
       "      <td>1110</td>\n",
       "      <td>15766</td>\n",
       "      <td>1238</td>\n",
       "      <td>3</td>\n",
       "      <td>0</td>\n",
       "      <td>3</td>\n",
       "    </tr>\n",
       "    <tr>\n",
       "      <th>4</th>\n",
       "      <td>8</td>\n",
       "      <td>1110</td>\n",
       "      <td>15766</td>\n",
       "      <td>1240</td>\n",
       "      <td>2</td>\n",
       "      <td>0</td>\n",
       "      <td>2</td>\n",
       "    </tr>\n",
       "  </tbody>\n",
       "</table>\n",
       "</div>"
      ],
      "text/plain": [
       "   Week_number  Sales_Depot_ID  Client_ID  Product_ID  Sales_unit_this_week  \\\n",
       "0            8            1110      15766        1212                     4   \n",
       "1            8            1110      15766        1216                     5   \n",
       "2            8            1110      15766        1220                     1   \n",
       "3            8            1110      15766        1238                     3   \n",
       "4            8            1110      15766        1240                     2   \n",
       "\n",
       "   Returns_unit_next_week  Adjusted_Demand  \n",
       "0                       0                4  \n",
       "1                       0                5  \n",
       "2                       0                1  \n",
       "3                       0                3  \n",
       "4                       0                2  "
      ]
     },
     "execution_count": 28,
     "metadata": {},
     "output_type": "execute_result"
    }
   ],
   "source": [
    "print(test.loc[test['Returns_unit_next_week'] > test['Sales_unit_this_week']].shape[0])\n",
    "print(test['Adjusted_Demand'].loc[test['Adjusted_Demand'] ==0].count())\n",
    "\n",
    "test.loc[test['Returns_unit_next_week'] > test['Sales_unit_this_week'],['Sales_unit_this_week', 'Returns_unit_next_week']]= \\\n",
    "test.loc[test['Returns_unit_next_week'] > test['Sales_unit_this_week'],['Returns_unit_next_week','Sales_unit_this_week']].values\n",
    "\n",
    "test['Diff']=test['Sales_unit_this_week']-test['Returns_unit_next_week']\n",
    "test.loc[(test['Adjusted_Demand'] == 0) & (test['Sales_unit_this_week'] != test['Returns_unit_next_week']),['Adjusted_Demand','Diff']] = \\\n",
    "test.loc[(test['Adjusted_Demand'] == 0) & (test['Sales_unit_this_week'] != test['Returns_unit_next_week']),['Diff','Adjusted_Demand']].values\n",
    "test.drop(['Diff'],axis=1,inplace=True)\n",
    "test.head()"
   ]
  },
  {
   "cell_type": "code",
   "execution_count": 29,
   "metadata": {},
   "outputs": [
    {
     "data": {
      "text/plain": [
       "(8582518, 7)"
      ]
     },
     "execution_count": 29,
     "metadata": {},
     "output_type": "execute_result"
    }
   ],
   "source": [
    "test =pd.merge(test,client,how='inner',on='Client_ID')\n",
    "test =pd.merge(test,town,how='inner',on='Sales_Depot_ID')\n",
    "test.drop(['Client_ID','Sales_Depot_ID','State'],axis=1,inplace=True)\n",
    "test =pd.merge(test,product,how='inner',on='Product_ID') \n",
    "test.drop(['Product_ID','brand','weight','pieces'],axis=1,inplace=True)\n",
    "test.shape"
   ]
  },
  {
   "cell_type": "code",
   "execution_count": 30,
   "metadata": {},
   "outputs": [
    {
     "data": {
      "text/html": [
       "<div>\n",
       "<style>\n",
       "    .dataframe thead tr:only-child th {\n",
       "        text-align: right;\n",
       "    }\n",
       "\n",
       "    .dataframe thead th {\n",
       "        text-align: left;\n",
       "    }\n",
       "\n",
       "    .dataframe tbody tr th {\n",
       "        vertical-align: top;\n",
       "    }\n",
       "</style>\n",
       "<table border=\"1\" class=\"dataframe\">\n",
       "  <thead>\n",
       "    <tr style=\"text-align: right;\">\n",
       "      <th></th>\n",
       "      <th>Week_number</th>\n",
       "      <th>Sales_unit_this_week</th>\n",
       "      <th>Returns_unit_next_week</th>\n",
       "      <th>Adjusted_Demand</th>\n",
       "      <th>Client_name</th>\n",
       "      <th>Town</th>\n",
       "      <th>product_name</th>\n",
       "    </tr>\n",
       "  </thead>\n",
       "  <tbody>\n",
       "    <tr>\n",
       "      <th>0</th>\n",
       "      <td>8</td>\n",
       "      <td>4</td>\n",
       "      <td>0</td>\n",
       "      <td>4</td>\n",
       "      <td>PUESTO DE PERIODICOS LAZARO</td>\n",
       "      <td>AG_LAGO_FILT</td>\n",
       "      <td>Roles Canela</td>\n",
       "    </tr>\n",
       "    <tr>\n",
       "      <th>1</th>\n",
       "      <td>9</td>\n",
       "      <td>1</td>\n",
       "      <td>0</td>\n",
       "      <td>1</td>\n",
       "      <td>PUESTO DE PERIODICOS LAZARO</td>\n",
       "      <td>AG_LAGO_FILT</td>\n",
       "      <td>Roles Canela</td>\n",
       "    </tr>\n",
       "    <tr>\n",
       "      <th>2</th>\n",
       "      <td>8</td>\n",
       "      <td>2</td>\n",
       "      <td>0</td>\n",
       "      <td>2</td>\n",
       "      <td>TOMAS GARCIA GUADARRAMA</td>\n",
       "      <td>AG_LAGO_FILT</td>\n",
       "      <td>Roles Canela</td>\n",
       "    </tr>\n",
       "    <tr>\n",
       "      <th>3</th>\n",
       "      <td>9</td>\n",
       "      <td>3</td>\n",
       "      <td>0</td>\n",
       "      <td>3</td>\n",
       "      <td>TOMAS GARCIA GUADARRAMA</td>\n",
       "      <td>AG_LAGO_FILT</td>\n",
       "      <td>Roles Canela</td>\n",
       "    </tr>\n",
       "    <tr>\n",
       "      <th>4</th>\n",
       "      <td>9</td>\n",
       "      <td>2</td>\n",
       "      <td>0</td>\n",
       "      <td>2</td>\n",
       "      <td>DON NICO</td>\n",
       "      <td>AG_LAGO_FILT</td>\n",
       "      <td>Roles Canela</td>\n",
       "    </tr>\n",
       "  </tbody>\n",
       "</table>\n",
       "</div>"
      ],
      "text/plain": [
       "   Week_number  Sales_unit_this_week  Returns_unit_next_week  Adjusted_Demand  \\\n",
       "0            8                     4                       0                4   \n",
       "1            9                     1                       0                1   \n",
       "2            8                     2                       0                2   \n",
       "3            9                     3                       0                3   \n",
       "4            9                     2                       0                2   \n",
       "\n",
       "                   Client_name          Town   product_name  \n",
       "0  PUESTO DE PERIODICOS LAZARO  AG_LAGO_FILT  Roles Canela   \n",
       "1  PUESTO DE PERIODICOS LAZARO  AG_LAGO_FILT  Roles Canela   \n",
       "2      TOMAS GARCIA GUADARRAMA  AG_LAGO_FILT  Roles Canela   \n",
       "3      TOMAS GARCIA GUADARRAMA  AG_LAGO_FILT  Roles Canela   \n",
       "4                     DON NICO  AG_LAGO_FILT  Roles Canela   "
      ]
     },
     "execution_count": 30,
     "metadata": {},
     "output_type": "execute_result"
    }
   ],
   "source": [
    "test.head()"
   ]
  },
  {
   "cell_type": "code",
   "execution_count": 50,
   "metadata": {},
   "outputs": [
    {
     "data": {
      "image/png": "[encoded data removed]",
      "text/plain": [
       "<matplotlib.figure.Figure at 0x26482d65ef0>"
      ]
     },
     "metadata": {},
     "output_type": "display_data"
    }
   ],
   "source": [
    "t = train[['Week_number']]\n",
    "t1= test[['Week_number']]\n",
    "t = pd.concat((t,t1), axis=0,ignore_index=True)\n",
    "t.Week_number.value_counts(sort=False).plot(kind='line', color='blue', rot=0,figsize=(10,5))\n",
    "plt.xlabel('Week')\n",
    "plt.ylabel('Sales')\n",
    "sns.despine()\n",
    "del t,t1"
   ]
  },
  {
   "cell_type": "markdown",
   "metadata": {},
   "source": [
    "From graph we see there is a decrease in the sale from 4th week onwards, and slight increase from 7th week onwards"
   ]
  },
  {
   "cell_type": "code",
   "execution_count": 25,
   "metadata": {},
   "outputs": [
    {
     "data": {
      "image/png": "[encoded data removed]",
      "text/plain": [
       "<matplotlib.figure.Figure at 0x2848b8f4b38>"
      ]
     },
     "metadata": {},
     "output_type": "display_data"
    }
   ],
   "source": [
    "t = pd.read_csv('train.csv',usecols=[0,2],dtype={'Semana':'int32','Canal_ID':'int32'})\n",
    "list1 = list(t['Semana'].drop_duplicates())\n",
    "list2 = list(t['Canal_ID'].drop_duplicates())\n",
    "dev_sin = pd.DataFrame()\n",
    "dev_sin['Semana']=list1\n",
    "for x in list2:\n",
    "    sin=[]\n",
    "    for y in list1:\n",
    "        occ = t.loc[(t['Semana'] == y ) & (t['Canal_ID'] == x)].Canal_ID.count()\n",
    "        sin.append(occ)\n",
    "    dev_sin[x]=sin\n",
    "    \n",
    "dev_sin.set_index('Semana',inplace=True)\n",
    "dev_sin.plot(kind='bar', legend=True,figsize=(15,10))\n",
    "plt.xlabel('Weeks')\n",
    "sns.despine()\n",
    "del dev_sin\n",
    "del t"
   ]
  },
  {
   "cell_type": "code",
   "execution_count": 30,
   "metadata": {},
   "outputs": [
    {
     "data": {
      "text/plain": [
       "(30583478, 7)"
      ]
     },
     "execution_count": 30,
     "metadata": {},
     "output_type": "execute_result"
    }
   ],
   "source": [
    "train1 = pd.concat((train,test), axis=0,ignore_index=True)\n",
    "train1.shape"
   ]
  },
  {
   "cell_type": "markdown",
   "metadata": {},
   "source": [
    "Transformation of Product_name and Client_name"
   ]
  },
  {
   "cell_type": "code",
   "execution_count": 31,
   "metadata": {
    "collapsed": true
   },
   "outputs": [],
   "source": [
    "from sklearn.preprocessing import LabelEncoder\n",
    "le = LabelEncoder()"
   ]
  },
  {
   "cell_type": "code",
   "execution_count": 34,
   "metadata": {},
   "outputs": [
    {
     "data": {
      "text/html": [
       "<div>\n",
       "<style>\n",
       "    .dataframe thead tr:only-child th {\n",
       "        text-align: right;\n",
       "    }\n",
       "\n",
       "    .dataframe thead th {\n",
       "        text-align: left;\n",
       "    }\n",
       "\n",
       "    .dataframe tbody tr th {\n",
       "        vertical-align: top;\n",
       "    }\n",
       "</style>\n",
       "<table border=\"1\" class=\"dataframe\">\n",
       "  <thead>\n",
       "    <tr style=\"text-align: right;\">\n",
       "      <th></th>\n",
       "      <th>Week_number</th>\n",
       "      <th>Sales_unit_this_week</th>\n",
       "      <th>Returns_unit_next_week</th>\n",
       "      <th>Adjusted_Demand</th>\n",
       "      <th>Client_name</th>\n",
       "      <th>Town</th>\n",
       "      <th>product_name</th>\n",
       "    </tr>\n",
       "  </thead>\n",
       "  <tbody>\n",
       "    <tr>\n",
       "      <th>0</th>\n",
       "      <td>3</td>\n",
       "      <td>3</td>\n",
       "      <td>0</td>\n",
       "      <td>3</td>\n",
       "      <td>14953</td>\n",
       "      <td>25</td>\n",
       "      <td>484</td>\n",
       "    </tr>\n",
       "    <tr>\n",
       "      <th>1</th>\n",
       "      <td>4</td>\n",
       "      <td>4</td>\n",
       "      <td>0</td>\n",
       "      <td>4</td>\n",
       "      <td>14953</td>\n",
       "      <td>25</td>\n",
       "      <td>484</td>\n",
       "    </tr>\n",
       "    <tr>\n",
       "      <th>2</th>\n",
       "      <td>3</td>\n",
       "      <td>2</td>\n",
       "      <td>0</td>\n",
       "      <td>2</td>\n",
       "      <td>17415</td>\n",
       "      <td>25</td>\n",
       "      <td>484</td>\n",
       "    </tr>\n",
       "    <tr>\n",
       "      <th>3</th>\n",
       "      <td>4</td>\n",
       "      <td>2</td>\n",
       "      <td>0</td>\n",
       "      <td>2</td>\n",
       "      <td>17415</td>\n",
       "      <td>25</td>\n",
       "      <td>484</td>\n",
       "    </tr>\n",
       "    <tr>\n",
       "      <th>4</th>\n",
       "      <td>3</td>\n",
       "      <td>2</td>\n",
       "      <td>0</td>\n",
       "      <td>2</td>\n",
       "      <td>6355</td>\n",
       "      <td>25</td>\n",
       "      <td>484</td>\n",
       "    </tr>\n",
       "  </tbody>\n",
       "</table>\n",
       "</div>"
      ],
      "text/plain": [
       "   Week_number  Sales_unit_this_week  Returns_unit_next_week  Adjusted_Demand  \\\n",
       "0            3                     3                       0                3   \n",
       "1            4                     4                       0                4   \n",
       "2            3                     2                       0                2   \n",
       "3            4                     2                       0                2   \n",
       "4            3                     2                       0                2   \n",
       "\n",
       "   Client_name  Town  product_name  \n",
       "0        14953    25           484  \n",
       "1        14953    25           484  \n",
       "2        17415    25           484  \n",
       "3        17415    25           484  \n",
       "4         6355    25           484  "
      ]
     },
     "execution_count": 34,
     "metadata": {},
     "output_type": "execute_result"
    }
   ],
   "source": [
    "train1['Client_name'] = le.fit_transform(train1['Client_name'])\n",
    "train1['product_name'] = le.fit_transform(train1['product_name'])\n",
    "train1['Town'] = le.fit_transform(train1['Town'])\n",
    "train1.head()"
   ]
  },
  {
   "cell_type": "code",
   "execution_count": 35,
   "metadata": {},
   "outputs": [
    {
     "data": {
      "text/plain": [
       "(22000960, 7)"
      ]
     },
     "execution_count": 35,
     "metadata": {},
     "output_type": "execute_result"
    }
   ],
   "source": [
    "train = train1.loc[train1['Week_number']<8]\n",
    "train.shape"
   ]
  },
  {
   "cell_type": "code",
   "execution_count": 36,
   "metadata": {},
   "outputs": [
    {
     "data": {
      "text/plain": [
       "(8582518, 7)"
      ]
     },
     "execution_count": 36,
     "metadata": {},
     "output_type": "execute_result"
    }
   ],
   "source": [
    "test = train1.loc[train1['Week_number']>7]\n",
    "test.shape"
   ]
  },
  {
   "cell_type": "code",
   "execution_count": 37,
   "metadata": {
    "collapsed": true
   },
   "outputs": [],
   "source": [
    "train.to_csv('Pre_train.csv',index=False,header=True)"
   ]
  },
  {
   "cell_type": "code",
   "execution_count": 38,
   "metadata": {
    "collapsed": true
   },
   "outputs": [],
   "source": [
    "test.to_csv('Pre_test.csv',index=False,header=True)"
   ]
  },
  {
   "cell_type": "code",
   "execution_count": 4,
   "metadata": {},
   "outputs": [
    {
     "data": {
      "text/plain": [
       "5487745"
      ]
     },
     "execution_count": 4,
     "metadata": {},
     "output_type": "execute_result"
    }
   ],
   "source": [
    "lag3_5 = train.loc[(train['Week_number']==3) | (train['Week_number']==4),['Sales_unit_this_week','Client_name','product_name','Town']]\n",
    "lag3_5=lag3_5.groupby(by=['Client_name','product_name','Town'],as_index=False,sort=False).aggregate(np.mean)\n",
    "lag3_5['week']=5\n",
    "lag3_5.columns=['Client_name','product_name','Town','mean_sales','Week_number']\n",
    "lag3_5.shape[0]"
   ]
  },
  {
   "cell_type": "code",
   "execution_count": 5,
   "metadata": {},
   "outputs": [
    {
     "data": {
      "text/plain": [
       "6602773"
      ]
     },
     "execution_count": 5,
     "metadata": {},
     "output_type": "execute_result"
    }
   ],
   "source": [
    "lag3_6 = train.loc[(train['Week_number']==3) | (train['Week_number']==4) | (train['Week_number']==5),['Sales_unit_this_week','Client_name','product_name','Town']]\n",
    "lag3_6=lag3_6.groupby(by=['Client_name','product_name','Town'],as_index=False,sort=False).aggregate(np.mean)\n",
    "lag3_6['week']=6\n",
    "lag3_6.columns=['Client_name','product_name','Town','mean_sales','Week_number']\n",
    "lag3_6.shape[0]"
   ]
  },
  {
   "cell_type": "code",
   "execution_count": 6,
   "metadata": {},
   "outputs": [
    {
     "data": {
      "text/plain": [
       "12090518"
      ]
     },
     "execution_count": 6,
     "metadata": {},
     "output_type": "execute_result"
    }
   ],
   "source": [
    "lag3_5 = pd.concat((lag3_5,lag3_6), axis=0,ignore_index=True)\n",
    "lag3_5.shape[0]"
   ]
  },
  {
   "cell_type": "code",
   "execution_count": 7,
   "metadata": {},
   "outputs": [
    {
     "data": {
      "text/plain": [
       "6455119"
      ]
     },
     "execution_count": 7,
     "metadata": {},
     "output_type": "execute_result"
    }
   ],
   "source": [
    "lag3_6 = train.loc[(train['Week_number']==4) | (train['Week_number']==5) | (train['Week_number']==6),['Sales_unit_this_week','Client_name','product_name','Town']]\n",
    "lag3_6=lag3_6.groupby(by=['Client_name','product_name','Town'],as_index=False,sort=False).aggregate(np.mean)\n",
    "lag3_6['week']=7\n",
    "lag3_6.columns=['Client_name','product_name','Town','mean_sales','Week_number']\n",
    "lag3_6.shape[0]"
   ]
  },
  {
   "cell_type": "code",
   "execution_count": 8,
   "metadata": {},
   "outputs": [
    {
     "data": {
      "text/plain": [
       "18545637"
      ]
     },
     "execution_count": 8,
     "metadata": {},
     "output_type": "execute_result"
    }
   ],
   "source": [
    "lag3_5 = pd.concat((lag3_5,lag3_6), axis=0,ignore_index=True)\n",
    "lag3_5.shape[0]"
   ]
  },
  {
   "cell_type": "code",
   "execution_count": 9,
   "metadata": {},
   "outputs": [
    {
     "data": {
      "text/plain": [
       "(12860050, 7)"
      ]
     },
     "execution_count": 9,
     "metadata": {},
     "output_type": "execute_result"
    }
   ],
   "source": [
    "train = train.loc[train['Week_number'] >4]\n",
    "train.shape"
   ]
  },
  {
   "cell_type": "code",
   "execution_count": 11,
   "metadata": {},
   "outputs": [
    {
     "data": {
      "text/plain": [
       "(19496024, 8)"
      ]
     },
     "execution_count": 11,
     "metadata": {},
     "output_type": "execute_result"
    }
   ],
   "source": [
    "train = pd.merge(lag3_5,train,how='left',on=['Week_number','Client_name','product_name','Town'])\n",
    "train.shape"
   ]
  },
  {
   "cell_type": "code",
   "execution_count": 12,
   "metadata": {},
   "outputs": [
    {
     "data": {
      "text/plain": [
       "True"
      ]
     },
     "execution_count": 12,
     "metadata": {},
     "output_type": "execute_result"
    }
   ],
   "source": [
    "train.isnull().values.any()"
   ]
  },
  {
   "cell_type": "code",
   "execution_count": 16,
   "metadata": {},
   "outputs": [
    {
     "data": {
      "text/html": [
       "<div>\n",
       "<style>\n",
       "    .dataframe thead tr:only-child th {\n",
       "        text-align: right;\n",
       "    }\n",
       "\n",
       "    .dataframe thead th {\n",
       "        text-align: left;\n",
       "    }\n",
       "\n",
       "    .dataframe tbody tr th {\n",
       "        vertical-align: top;\n",
       "    }\n",
       "</style>\n",
       "<table border=\"1\" class=\"dataframe\">\n",
       "  <thead>\n",
       "    <tr style=\"text-align: right;\">\n",
       "      <th></th>\n",
       "      <th>Client_name</th>\n",
       "      <th>product_name</th>\n",
       "      <th>Town</th>\n",
       "      <th>mean_sales</th>\n",
       "      <th>Week_number</th>\n",
       "      <th>Sales_unit_this_week</th>\n",
       "      <th>Returns_unit_next_week</th>\n",
       "      <th>Adjusted_Demand</th>\n",
       "    </tr>\n",
       "  </thead>\n",
       "  <tbody>\n",
       "    <tr>\n",
       "      <th>4</th>\n",
       "      <td>5120</td>\n",
       "      <td>484</td>\n",
       "      <td>25</td>\n",
       "      <td>2.5</td>\n",
       "      <td>5</td>\n",
       "      <td>NaN</td>\n",
       "      <td>NaN</td>\n",
       "      <td>NaN</td>\n",
       "    </tr>\n",
       "    <tr>\n",
       "      <th>7</th>\n",
       "      <td>13487</td>\n",
       "      <td>484</td>\n",
       "      <td>25</td>\n",
       "      <td>2.0</td>\n",
       "      <td>5</td>\n",
       "      <td>NaN</td>\n",
       "      <td>NaN</td>\n",
       "      <td>NaN</td>\n",
       "    </tr>\n",
       "    <tr>\n",
       "      <th>8</th>\n",
       "      <td>6915</td>\n",
       "      <td>484</td>\n",
       "      <td>25</td>\n",
       "      <td>2.0</td>\n",
       "      <td>5</td>\n",
       "      <td>NaN</td>\n",
       "      <td>NaN</td>\n",
       "      <td>NaN</td>\n",
       "    </tr>\n",
       "    <tr>\n",
       "      <th>14</th>\n",
       "      <td>12963</td>\n",
       "      <td>484</td>\n",
       "      <td>25</td>\n",
       "      <td>2.0</td>\n",
       "      <td>5</td>\n",
       "      <td>NaN</td>\n",
       "      <td>NaN</td>\n",
       "      <td>NaN</td>\n",
       "    </tr>\n",
       "    <tr>\n",
       "      <th>16</th>\n",
       "      <td>9005</td>\n",
       "      <td>484</td>\n",
       "      <td>25</td>\n",
       "      <td>2.0</td>\n",
       "      <td>5</td>\n",
       "      <td>NaN</td>\n",
       "      <td>NaN</td>\n",
       "      <td>NaN</td>\n",
       "    </tr>\n",
       "  </tbody>\n",
       "</table>\n",
       "</div>"
      ],
      "text/plain": [
       "    Client_name  product_name  Town  mean_sales  Week_number  \\\n",
       "4          5120           484    25         2.5            5   \n",
       "7         13487           484    25         2.0            5   \n",
       "8          6915           484    25         2.0            5   \n",
       "14        12963           484    25         2.0            5   \n",
       "16         9005           484    25         2.0            5   \n",
       "\n",
       "    Sales_unit_this_week  Returns_unit_next_week  Adjusted_Demand  \n",
       "4                    NaN                     NaN              NaN  \n",
       "7                    NaN                     NaN              NaN  \n",
       "8                    NaN                     NaN              NaN  \n",
       "14                   NaN                     NaN              NaN  \n",
       "16                   NaN                     NaN              NaN  "
      ]
     },
     "execution_count": 16,
     "metadata": {},
     "output_type": "execute_result"
    }
   ],
   "source": [
    "train[pd.isnull(train['Sales_unit_this_week'])].head()"
   ]
  },
  {
   "cell_type": "code",
   "execution_count": 20,
   "metadata": {},
   "outputs": [],
   "source": [
    "train.fillna(value=0,inplace=True)"
   ]
  },
  {
   "cell_type": "code",
   "execution_count": 21,
   "metadata": {},
   "outputs": [
    {
     "data": {
      "text/plain": [
       "False"
      ]
     },
     "execution_count": 21,
     "metadata": {},
     "output_type": "execute_result"
    }
   ],
   "source": [
    "train.isnull().values.any()"
   ]
  },
  {
   "cell_type": "code",
   "execution_count": 22,
   "metadata": {},
   "outputs": [
    {
     "data": {
      "text/plain": [
       "7331219"
      ]
     },
     "execution_count": 22,
     "metadata": {},
     "output_type": "execute_result"
    }
   ],
   "source": [
    "lag3_6 = train.loc[(train['Week_number']==5) | (train['Week_number']==6) | (train['Week_number']==7),['Sales_unit_this_week','Client_name','product_name','Town']]\n",
    "lag3_6=lag3_6.groupby(by=['Client_name','product_name','Town'],as_index=False,sort=False).aggregate(np.mean)\n",
    "lag3_6['week']=8\n",
    "lag3_6.columns=['Client_name','product_name','Town','mean_sales','Week_number']\n",
    "lag3_6.shape[0]"
   ]
  },
  {
   "cell_type": "code",
   "execution_count": 23,
   "metadata": {},
   "outputs": [
    {
     "data": {
      "text/plain": [
       "8162838"
      ]
     },
     "execution_count": 23,
     "metadata": {},
     "output_type": "execute_result"
    }
   ],
   "source": [
    "lag3_5 = train.loc[(train['Week_number']==6) | (train['Week_number']==7),['Sales_unit_this_week','Client_name','product_name','Town']]\n",
    "lag3_7= test.loc[(test['Week_number']==8),['Sales_unit_this_week','Client_name','product_name','Town']]\n",
    "lag3_7 = pd.concat((lag3_5,lag3_7), axis=0,ignore_index=True)\n",
    "lag3_7=lag3_7.groupby(by=['Client_name','product_name','Town'],as_index=False,sort=False).aggregate(np.mean)\n",
    "lag3_7['week']=9\n",
    "lag3_7.columns=['Client_name','product_name','Town','mean_sales','Week_number']\n",
    "lag3_7.shape[0]"
   ]
  },
  {
   "cell_type": "code",
   "execution_count": 24,
   "metadata": {},
   "outputs": [
    {
     "data": {
      "text/plain": [
       "15494057"
      ]
     },
     "execution_count": 24,
     "metadata": {},
     "output_type": "execute_result"
    }
   ],
   "source": [
    "lag3_6 = pd.concat((lag3_6,lag3_7), axis=0,ignore_index=True)\n",
    "lag3_6.shape[0]"
   ]
  },
  {
   "cell_type": "code",
   "execution_count": 25,
   "metadata": {},
   "outputs": [
    {
     "data": {
      "text/plain": [
       "(16146346, 8)"
      ]
     },
     "execution_count": 25,
     "metadata": {},
     "output_type": "execute_result"
    }
   ],
   "source": [
    "test = pd.merge(lag3_6,test,how='left',on=['Week_number','Client_name','product_name','Town'])\n",
    "test.shape"
   ]
  },
  {
   "cell_type": "code",
   "execution_count": 26,
   "metadata": {},
   "outputs": [
    {
     "data": {
      "text/html": [
       "<div>\n",
       "<style>\n",
       "    .dataframe thead tr:only-child th {\n",
       "        text-align: right;\n",
       "    }\n",
       "\n",
       "    .dataframe thead th {\n",
       "        text-align: left;\n",
       "    }\n",
       "\n",
       "    .dataframe tbody tr th {\n",
       "        vertical-align: top;\n",
       "    }\n",
       "</style>\n",
       "<table border=\"1\" class=\"dataframe\">\n",
       "  <thead>\n",
       "    <tr style=\"text-align: right;\">\n",
       "      <th></th>\n",
       "      <th>Client_name</th>\n",
       "      <th>product_name</th>\n",
       "      <th>Town</th>\n",
       "      <th>mean_sales</th>\n",
       "      <th>Week_number</th>\n",
       "      <th>Sales_unit_this_week</th>\n",
       "      <th>Returns_unit_next_week</th>\n",
       "      <th>Adjusted_Demand</th>\n",
       "    </tr>\n",
       "  </thead>\n",
       "  <tbody>\n",
       "    <tr>\n",
       "      <th>2</th>\n",
       "      <td>6355</td>\n",
       "      <td>484</td>\n",
       "      <td>25</td>\n",
       "      <td>1.666667</td>\n",
       "      <td>8</td>\n",
       "      <td>NaN</td>\n",
       "      <td>NaN</td>\n",
       "      <td>NaN</td>\n",
       "    </tr>\n",
       "    <tr>\n",
       "      <th>3</th>\n",
       "      <td>103</td>\n",
       "      <td>484</td>\n",
       "      <td>25</td>\n",
       "      <td>3.333333</td>\n",
       "      <td>8</td>\n",
       "      <td>NaN</td>\n",
       "      <td>NaN</td>\n",
       "      <td>NaN</td>\n",
       "    </tr>\n",
       "    <tr>\n",
       "      <th>4</th>\n",
       "      <td>5120</td>\n",
       "      <td>484</td>\n",
       "      <td>25</td>\n",
       "      <td>0.000000</td>\n",
       "      <td>8</td>\n",
       "      <td>NaN</td>\n",
       "      <td>NaN</td>\n",
       "      <td>NaN</td>\n",
       "    </tr>\n",
       "    <tr>\n",
       "      <th>6</th>\n",
       "      <td>7846</td>\n",
       "      <td>484</td>\n",
       "      <td>25</td>\n",
       "      <td>0.666667</td>\n",
       "      <td>8</td>\n",
       "      <td>NaN</td>\n",
       "      <td>NaN</td>\n",
       "      <td>NaN</td>\n",
       "    </tr>\n",
       "    <tr>\n",
       "      <th>7</th>\n",
       "      <td>13487</td>\n",
       "      <td>484</td>\n",
       "      <td>25</td>\n",
       "      <td>1.000000</td>\n",
       "      <td>8</td>\n",
       "      <td>NaN</td>\n",
       "      <td>NaN</td>\n",
       "      <td>NaN</td>\n",
       "    </tr>\n",
       "  </tbody>\n",
       "</table>\n",
       "</div>"
      ],
      "text/plain": [
       "   Client_name  product_name  Town  mean_sales  Week_number  \\\n",
       "2         6355           484    25    1.666667            8   \n",
       "3          103           484    25    3.333333            8   \n",
       "4         5120           484    25    0.000000            8   \n",
       "6         7846           484    25    0.666667            8   \n",
       "7        13487           484    25    1.000000            8   \n",
       "\n",
       "   Sales_unit_this_week  Returns_unit_next_week  Adjusted_Demand  \n",
       "2                   NaN                     NaN              NaN  \n",
       "3                   NaN                     NaN              NaN  \n",
       "4                   NaN                     NaN              NaN  \n",
       "6                   NaN                     NaN              NaN  \n",
       "7                   NaN                     NaN              NaN  "
      ]
     },
     "execution_count": 26,
     "metadata": {},
     "output_type": "execute_result"
    }
   ],
   "source": [
    "test[pd.isnull(test['Sales_unit_this_week'])].head()"
   ]
  },
  {
   "cell_type": "code",
   "execution_count": 27,
   "metadata": {},
   "outputs": [
    {
     "data": {
      "text/plain": [
       "False"
      ]
     },
     "execution_count": 27,
     "metadata": {},
     "output_type": "execute_result"
    }
   ],
   "source": [
    "test.fillna(value=0,inplace=True)\n",
    "test.isnull().values.any()"
   ]
  },
  {
   "cell_type": "code",
   "execution_count": null,
   "metadata": {
    "collapsed": true
   },
   "outputs": [],
   "source": []
  },
  {
   "cell_type": "markdown",
   "metadata": {},
   "source": [
    "# LEARNING MODELS"
   ]
  },
  {
   "cell_type": "markdown",
   "metadata": {},
   "source": [
    "Choice of the algorithm depends on the\n",
    "\n",
    "-the size of the training data\n",
    "\n",
    "-the number of features\n",
    "\n",
    "-the quality of the features"
   ]
  },
  {
   "cell_type": "markdown",
   "metadata": {},
   "source": [
    "Select data upto 7 weeks as training data"
   ]
  },
  {
   "cell_type": "code",
   "execution_count": 28,
   "metadata": {
    "collapsed": true
   },
   "outputs": [],
   "source": [
    "y_train = train['Adjusted_Demand']\n",
    "x_train = train.drop('Adjusted_Demand',axis=1)"
   ]
  },
  {
   "cell_type": "markdown",
   "metadata": {},
   "source": [
    "Select data 8-9 week as test data"
   ]
  },
  {
   "cell_type": "code",
   "execution_count": 29,
   "metadata": {
    "collapsed": true
   },
   "outputs": [],
   "source": [
    "y_test = test['Adjusted_Demand']\n",
    "x_test = test.drop('Adjusted_Demand',axis=1)"
   ]
  },
  {
   "cell_type": "markdown",
   "metadata": {},
   "source": [
    "## Multiple linear regression model"
   ]
  },
  {
   "cell_type": "code",
   "execution_count": 30,
   "metadata": {
    "collapsed": true
   },
   "outputs": [],
   "source": [
    "from sklearn import linear_model\n",
    "clf = linear_model.LinearRegression()\n",
    "\n",
    "clf.fit(x_train, y_train)\n",
    "prediction = clf.predict(x_test).astype(int)"
   ]
  },
  {
   "cell_type": "code",
   "execution_count": 31,
   "metadata": {},
   "outputs": [
    {
     "data": {
      "text/plain": [
       "array([  5.65533483e-18,  -1.35450742e-16,  -1.98607433e-16,\n",
       "        -3.43049407e-14,   3.53791416e-15,   1.00000000e+00,\n",
       "        -1.00000000e+00])"
      ]
     },
     "execution_count": 31,
     "metadata": {},
     "output_type": "execute_result"
    }
   ],
   "source": [
    "clf.coef_"
   ]
  },
  {
   "cell_type": "code",
   "execution_count": 32,
   "metadata": {},
   "outputs": [
    {
     "name": "stdout",
     "output_type": "stream",
     "text": [
      "RMSE: 0.26\n"
     ]
    }
   ],
   "source": [
    "print(\"RMSE: %.2f\" % math.sqrt(np.mean((prediction - y_test) ** 2)))"
   ]
  },
  {
   "cell_type": "markdown",
   "metadata": {},
   "source": [
    "Find the R_square value"
   ]
  },
  {
   "cell_type": "code",
   "execution_count": 33,
   "metadata": {},
   "outputs": [
    {
     "data": {
      "text/plain": [
       "0.99976490098430704"
      ]
     },
     "execution_count": 33,
     "metadata": {},
     "output_type": "execute_result"
    }
   ],
   "source": [
    "from sklearn.metrics import r2_score\n",
    "r2_score(y_test,prediction)"
   ]
  },
  {
   "cell_type": "markdown",
   "metadata": {},
   "source": [
    "Since r_square value is near to 1.0 we can say that this model is predicting good values"
   ]
  },
  {
   "cell_type": "code",
   "execution_count": null,
   "metadata": {
    "collapsed": true
   },
   "outputs": [],
   "source": []
  },
  {
   "cell_type": "code",
   "execution_count": 36,
   "metadata": {},
   "outputs": [
    {
     "name": "stderr",
     "output_type": "stream",
     "text": [
      "C:\\ProgramData\\Anaconda3\\lib\\site-packages\\sklearn\\cross_validation.py:44: DeprecationWarning: This module was deprecated in version 0.18 in favor of the model_selection module into which all the refactored classes and functions are moved. Also note that the interface of the new CV iterators are different from that of this module. This module will be removed in 0.20.\n",
      "  \"This module will be removed in 0.20.\", DeprecationWarning)\n"
     ]
    }
   ],
   "source": [
    "import xgboost"
   ]
  },
  {
   "cell_type": "code",
   "execution_count": 41,
   "metadata": {},
   "outputs": [
    {
     "data": {
      "text/plain": [
       "XGBRegressor(base_score=0.5, colsample_bylevel=1, colsample_bytree=1, gamma=0,\n",
       "       learning_rate=0.1, max_delta_step=0, max_depth=5,\n",
       "       min_child_weight=1, missing=None, n_estimators=100, nthread=-1,\n",
       "       objective='reg:linear', reg_alpha=0, reg_lambda=1,\n",
       "       scale_pos_weight=1, seed=0, silent=True, subsample=0.75)"
      ]
     },
     "execution_count": 41,
     "metadata": {},
     "output_type": "execute_result"
    }
   ],
   "source": [
    "xgb = xgboost.XGBRegressor(n_estimators=100,learning_rate=0.1,gamma=0,subsample=0.75,colsample_bytree=1,max_depth=5)\n",
    "xgb.fit(x_train, y_train)"
   ]
  },
  {
   "cell_type": "code",
   "execution_count": 42,
   "metadata": {
    "collapsed": true
   },
   "outputs": [],
   "source": [
    "prediction = xgb.predict(x_test).astype(int)"
   ]
  },
  {
   "cell_type": "code",
   "execution_count": 43,
   "metadata": {},
   "outputs": [
    {
     "name": "stdout",
     "output_type": "stream",
     "text": [
      "RMSE: 7.20\n"
     ]
    }
   ],
   "source": [
    "print(\"RMSE: %.2f\" % math.sqrt(np.mean((prediction - y_test) ** 2)))"
   ]
  },
  {
   "cell_type": "code",
   "execution_count": 45,
   "metadata": {},
   "outputs": [
    {
     "data": {
      "text/plain": [
       "0.8199302132015609"
      ]
     },
     "execution_count": 45,
     "metadata": {},
     "output_type": "execute_result"
    }
   ],
   "source": [
    "r2_score(y_test,prediction)"
   ]
  },
  {
   "cell_type": "code",
   "execution_count": null,
   "metadata": {
    "collapsed": true
   },
   "outputs": [],
   "source": []
  }
 ],
 "metadata": {
  "kernelspec": {
   "display_name": "Python 3",
   "language": "python",
   "name": "python3"
  },
  "language_info": {
   "codemirror_mode": {
    "name": "ipython",
    "version": 3
   },
   "file_extension": ".py",
   "mimetype": "text/x-python",
   "name": "python",
   "nbconvert_exporter": "python",
   "pygments_lexer": "ipython3",
   "version": "3.6.1"
  }
 },
 "nbformat": 4,
 "nbformat_minor": 2
}
