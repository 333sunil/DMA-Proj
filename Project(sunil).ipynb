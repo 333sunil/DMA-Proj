{
 "cells": [
  {
   "cell_type": "code",
   "execution_count": 1,
   "metadata": {},
   "outputs": [
    {
     "name": "stdout",
     "output_type": "stream",
     "text": [
      "Populating the interactive namespace from numpy and matplotlib\n"
     ]
    }
   ],
   "source": [
    "import pandas as pd\n",
    "import re\n",
    "import numpy as np\n",
    "import matplotlib.pyplot as plt\n",
    "import seaborn as sns\n",
    "%pylab inline"
   ]
  },
  {
   "cell_type": "markdown",
   "metadata": {},
   "source": [
    "# Read Train data"
   ]
  },
  {
   "cell_type": "code",
   "execution_count": 20,
   "metadata": {},
   "outputs": [
    {
     "data": {
      "text/plain": [
       "(25000000, 11)"
      ]
     },
     "execution_count": 20,
     "metadata": {},
     "output_type": "execute_result"
    }
   ],
   "source": [
    "train = pd.read_csv('train.csv',nrows=25000000,dtype={'Semana':'int32','Agencia_ID':'int32',\n",
    "                                       'Canal_ID':'int32','Ruta_SAK':'int32',\n",
    "                                      'Cliente_ID':'int32','Producto_ID':'int32',\n",
    "                                      'Venta_uni_hoy':'int32','Venta_hoy':'float32',\n",
    "                                      'Dev_uni_proxima':'int32','Dev_proxima':'float32',\n",
    "                                      'Demanda_uni_equil':'int32'})\n",
    "\n",
    "train.columns =['Week_number','Sales_Depot_ID','Sales_Channel_ID','Route_ID','Client_ID','Product_ID',\n",
    "                                     'Sales_unit_this_week','Sales_this_week', 'Returns_unit_next_week','Returns_next_week', \n",
    "                                     'Adjusted_Demand']\n",
    "train.loc[:,'Sales_this_week']*=0.056\n",
    "train.loc[:,'Returns_next_week']*=0.056\n",
    "train.shape"
   ]
  },
  {
   "cell_type": "code",
   "execution_count": 6,
   "metadata": {},
   "outputs": [
    {
     "data": {
      "text/plain": [
       "(25000000, 11)"
      ]
     },
     "execution_count": 6,
     "metadata": {},
     "output_type": "execute_result"
    }
   ],
   "source": [
    "train1 = pd.read_csv('train.csv',skiprows=range(1, 25000001),nrows=25000000,dtype={'Semana':int,'Agencia_ID':int,\n",
    "                                       'Canal_ID':int,'Ruta_SAK':int,\n",
    "                                      'Cliente_ID':int,'Producto_ID':int,\n",
    "                                      'Venta_uni_hoy':int,'Venta_hoy':float,\n",
    "                                      'Dev_uni_proxima':int,'Dev_proxima':float,\n",
    "                                      'Demanda_uni_equil':int})\n",
    "\n",
    "train1.columns =['Week_number','Sales_Depot_ID','Sales_Channel_ID','Route_ID','Client_ID','Product_ID',\n",
    "                                     'Sales_unit_this_week','Sales_this_week', 'Returns_unit_next_week','Returns_next_week', \n",
    "                                     'Adjusted_Demand']\n",
    "train1.loc[:,'Sales_this_week']*=0.056\n",
    "train1.loc[:,'Returns_next_week']*=0.056\n",
    "\n",
    "train1.shape"
   ]
  },
  {
   "cell_type": "code",
   "execution_count": 14,
   "metadata": {},
   "outputs": [
    {
     "data": {
      "text/plain": [
       "(24180464, 11)"
      ]
     },
     "execution_count": 14,
     "metadata": {},
     "output_type": "execute_result"
    }
   ],
   "source": [
    "train2 = pd.read_csv('train.csv',skiprows=range(1, 50000001),dtype={'Semana':int,'Agencia_ID':int,\n",
    "                                       'Canal_ID':int,'Ruta_SAK':int,\n",
    "                                      'Cliente_ID':int,'Producto_ID':int,\n",
    "                                      'Venta_uni_hoy':int,'Venta_hoy':float,\n",
    "                                      'Dev_uni_proxima':int,'Dev_proxima':float,\n",
    "                                      'Demanda_uni_equil':int})\n",
    "\n",
    "train1.columns =['Week_number','Sales_Depot_ID','Sales_Channel_ID','Route_ID','Client_ID','Product_ID',\n",
    "                                     'Sales_unit_this_week','Sales_this_week', 'Returns_unit_next_week','Returns_next_week', \n",
    "                                     'Adjusted_Demand']\n",
    "train1.loc[:,'Sales_this_week']*=0.056\n",
    "train1.loc[:,'Returns_next_week']*=0.056\n",
    "\n",
    "train2.shape"
   ]
  },
  {
   "cell_type": "markdown",
   "metadata": {},
   "source": [
    "# Read other files"
   ]
  },
  {
   "cell_type": "code",
   "execution_count": 2,
   "metadata": {
    "collapsed": true
   },
   "outputs": [],
   "source": [
    "test  = pd.read_csv('test.csv')\n",
    "client = pd.read_csv('client.csv')\n",
    "product = pd.read_csv('product.csv')\n",
    "town = pd.read_csv('town_state.csv')\n",
    "\n",
    "#change column names\n",
    "test.columns = ['id', 'Week_number', 'Sales_Depot_ID', 'Sales_Channel_ID', 'Route_ID', 'Client_ID','Product_ID']\n",
    "client.columns = ['Client_ID', 'Client_name']\n",
    "product.columns = ['Product_ID', 'Product_Name']\n",
    "town.columns = ['Sales_Depot_ID', 'Town', 'State']\n",
    "\n",
    "test.drop('id',axis=1,inplace=True)"
   ]
  },
  {
   "cell_type": "markdown",
   "metadata": {},
   "source": [
    "# Preprocess Client data"
   ]
  },
  {
   "cell_type": "code",
   "execution_count": 3,
   "metadata": {
    "collapsed": true
   },
   "outputs": [],
   "source": [
    "#Drop duplicate client values\n",
    "client.drop_duplicates(['Client_ID'],inplace=True)\n",
    "\n",
    "#in client table some words mean not defiened\n",
    "client.loc[(client['Client_name'] == 'NO IDENTIFICADO') | (client['Client_name'] == 'SIN NOMBRE') |\n",
    "           (client['Client_name'] == 'INACTIVAR NO TOCAR') ,'Client_name' ] = 'NO_Name'"
   ]
  },
  {
   "cell_type": "markdown",
   "metadata": {},
   "source": [
    "# Preprocess Product data"
   ]
  },
  {
   "cell_type": "code",
   "execution_count": 4,
   "metadata": {},
   "outputs": [
    {
     "data": {
      "text/html": [
       "<div>\n",
       "<style>\n",
       "    .dataframe thead tr:only-child th {\n",
       "        text-align: right;\n",
       "    }\n",
       "\n",
       "    .dataframe thead th {\n",
       "        text-align: left;\n",
       "    }\n",
       "\n",
       "    .dataframe tbody tr th {\n",
       "        vertical-align: top;\n",
       "    }\n",
       "</style>\n",
       "<table border=\"1\" class=\"dataframe\">\n",
       "  <thead>\n",
       "    <tr style=\"text-align: right;\">\n",
       "      <th></th>\n",
       "      <th>Product_ID</th>\n",
       "      <th>product_name</th>\n",
       "      <th>brand</th>\n",
       "      <th>weight</th>\n",
       "      <th>pieces</th>\n",
       "    </tr>\n",
       "  </thead>\n",
       "  <tbody>\n",
       "    <tr>\n",
       "      <th>0</th>\n",
       "      <td>0</td>\n",
       "      <td>NO</td>\n",
       "      <td>IDENTIFICADO</td>\n",
       "      <td>NaN</td>\n",
       "      <td>1.0</td>\n",
       "    </tr>\n",
       "    <tr>\n",
       "      <th>1</th>\n",
       "      <td>9</td>\n",
       "      <td>Capuccino Moka</td>\n",
       "      <td>NES</td>\n",
       "      <td>750.0</td>\n",
       "      <td>1.0</td>\n",
       "    </tr>\n",
       "    <tr>\n",
       "      <th>2</th>\n",
       "      <td>41</td>\n",
       "      <td>Bimbollos Ext sAjonjoli</td>\n",
       "      <td>BIM</td>\n",
       "      <td>480.0</td>\n",
       "      <td>6.0</td>\n",
       "    </tr>\n",
       "    <tr>\n",
       "      <th>3</th>\n",
       "      <td>53</td>\n",
       "      <td>Burritos Sincro</td>\n",
       "      <td>LON</td>\n",
       "      <td>170.0</td>\n",
       "      <td>1.0</td>\n",
       "    </tr>\n",
       "    <tr>\n",
       "      <th>4</th>\n",
       "      <td>72</td>\n",
       "      <td>Div Tira Mini Doradita</td>\n",
       "      <td>TR</td>\n",
       "      <td>45.0</td>\n",
       "      <td>4.0</td>\n",
       "    </tr>\n",
       "  </tbody>\n",
       "</table>\n",
       "</div>"
      ],
      "text/plain": [
       "   Product_ID              product_name         brand  weight  pieces\n",
       "0           0                        NO  IDENTIFICADO     NaN     1.0\n",
       "1           9           Capuccino Moka            NES   750.0     1.0\n",
       "2          41  Bimbollos Ext sAjonjoli            BIM   480.0     6.0\n",
       "3          53          Burritos Sincro            LON   170.0     1.0\n",
       "4          72   Div Tira Mini Doradita             TR    45.0     4.0"
      ]
     },
     "execution_count": 4,
     "metadata": {},
     "output_type": "execute_result"
    }
   ],
   "source": [
    "id_list = product['Product_ID'].values\n",
    "name_list = product['Product_Name'].values\n",
    "num_product = name_list.shape[0]\n",
    "\n",
    "product_weight_list = np.empty(num_product)\n",
    "product_weight_list[:] = np.NAN\n",
    "product_piece_list = np.ones(num_product)\n",
    "product_brand_list = list()\n",
    "product_short_name_list = list()\n",
    "\n",
    "product_info_list = zip(id_list,name_list)\n",
    "\n",
    "#extract weight,piece,brand and prod_name\n",
    "\n",
    "regex_piece_weight = re.compile(r'(.*?)(\\d+)(p|P).*?(\\d+)\\s*(kg|Kg|g|G|ml)') #check for line with piece first and then weight\n",
    "regex_weight_piece = re.compile(r'(.*?)(\\d+)\\s*(kg|Kg|g|G|ml).*?(\\d+)(p|P)') #opp of first\n",
    "regex_weight = re.compile(r'(.*?)(\\d+)\\s*(kg|Kg|g|G|ml)')  #line with only weights\n",
    "regex_piece = re.compile(r'(.*?)(\\d+)(p|P)(?!ct|CT)')  #line with only piece\n",
    "\n",
    "dont_know_list = ['MTB', 'MTA', 'TNB', 'CU', 'TAB']\n",
    "\n",
    "for i, (product_id, orig_product_name) in enumerate(product_info_list):\n",
    "    product_name = orig_product_name.rstrip(str(product_id)).strip()\n",
    "    \n",
    "    product_name_words = product_name.split()   \n",
    "    \n",
    "    if re.search(regex_piece_weight, product_name):\n",
    "        regex_result = re.search(regex_piece_weight, product_name)\n",
    "        product_weight_list[i] = float(regex_result.group(4))\n",
    "        product_piece_list[i] = int(regex_result.group(2))\n",
    "        product_short_name = regex_result.group(1)\n",
    "        if regex_result.group(5) == 'kg' or regex_result.group(5) == 'Kg':\n",
    "            product_weight_list[i] *= 1000\n",
    "            \n",
    "    elif re.search(regex_weight_piece, product_name):\n",
    "        regex_result = re.search(regex_weight_piece, product_name)\n",
    "        product_weight_list[i] = float(regex_result.group(2))\n",
    "        product_piece_list[i] = int(regex_result.group(4))\n",
    "        if regex_result.group(3) == 'kg' or regex_result.group(3) == 'Kg':\n",
    "            product_weight_list[i] *= 1000\n",
    "        product_short_name = regex_result.group(1)\n",
    "        \n",
    "    elif re.search(regex_weight, product_name):\n",
    "        regex_result = re.search(regex_weight, product_name)\n",
    "        product_weight_list[i] = float(regex_result.group(2))\n",
    "        if regex_result.group(3) == 'kg' or regex_result.group(3) == 'Kg':\n",
    "            product_weight_list[i] *= 1000\n",
    "        product_short_name = regex_result.group(1)\n",
    "        \n",
    "    elif re.search(regex_piece, product_name):\n",
    "        regex_result = re.search(regex_piece, product_name)\n",
    "        product_piece_list[i] = int(regex_result.group(2))\n",
    "        product_short_name = regex_result.group(1) \n",
    "        \n",
    "    else:\n",
    "        product_short_name = ' '.join([word for word in product_name_words[:-1] if word not in dont_know_list])\n",
    "        \n",
    "    product_brand_list.append(product_name_words[-1])\n",
    "    product_short_name_list.append(product_short_name)\n",
    "    \n",
    "product['product_name'] = product_short_name_list\n",
    "product['brand'] = product_brand_list\n",
    "product['weight'] = product_weight_list\n",
    "product['pieces'] = product_piece_list\n",
    "\n",
    "product.drop('Product_Name',axis = 1,inplace=True)\n",
    "product.head()"
   ]
  },
  {
   "cell_type": "code",
   "execution_count": 10,
   "metadata": {},
   "outputs": [
    {
     "data": {
      "text/html": [
       "<div>\n",
       "<style>\n",
       "    .dataframe thead tr:only-child th {\n",
       "        text-align: right;\n",
       "    }\n",
       "\n",
       "    .dataframe thead th {\n",
       "        text-align: left;\n",
       "    }\n",
       "\n",
       "    .dataframe tbody tr th {\n",
       "        vertical-align: top;\n",
       "    }\n",
       "</style>\n",
       "<table border=\"1\" class=\"dataframe\">\n",
       "  <thead>\n",
       "    <tr style=\"text-align: right;\">\n",
       "      <th></th>\n",
       "      <th>Product_ID</th>\n",
       "      <th>weight</th>\n",
       "      <th>pieces</th>\n",
       "    </tr>\n",
       "  </thead>\n",
       "  <tbody>\n",
       "    <tr>\n",
       "      <th>count</th>\n",
       "      <td>2592.000000</td>\n",
       "      <td>2541.000000</td>\n",
       "      <td>2592.000000</td>\n",
       "    </tr>\n",
       "    <tr>\n",
       "      <th>mean</th>\n",
       "      <td>32591.095679</td>\n",
       "      <td>413.480913</td>\n",
       "      <td>6.520448</td>\n",
       "    </tr>\n",
       "    <tr>\n",
       "      <th>std</th>\n",
       "      <td>13004.091024</td>\n",
       "      <td>1764.304179</td>\n",
       "      <td>13.941169</td>\n",
       "    </tr>\n",
       "    <tr>\n",
       "      <th>min</th>\n",
       "      <td>0.000000</td>\n",
       "      <td>4.000000</td>\n",
       "      <td>0.000000</td>\n",
       "    </tr>\n",
       "    <tr>\n",
       "      <th>25%</th>\n",
       "      <td>31515.500000</td>\n",
       "      <td>80.000000</td>\n",
       "      <td>1.000000</td>\n",
       "    </tr>\n",
       "    <tr>\n",
       "      <th>50%</th>\n",
       "      <td>35224.000000</td>\n",
       "      <td>180.000000</td>\n",
       "      <td>1.000000</td>\n",
       "    </tr>\n",
       "    <tr>\n",
       "      <th>75%</th>\n",
       "      <td>40447.250000</td>\n",
       "      <td>400.000000</td>\n",
       "      <td>8.000000</td>\n",
       "    </tr>\n",
       "    <tr>\n",
       "      <th>max</th>\n",
       "      <td>49997.000000</td>\n",
       "      <td>42000.000000</td>\n",
       "      <td>200.000000</td>\n",
       "    </tr>\n",
       "  </tbody>\n",
       "</table>\n",
       "</div>"
      ],
      "text/plain": [
       "         Product_ID        weight       pieces\n",
       "count   2592.000000   2541.000000  2592.000000\n",
       "mean   32591.095679    413.480913     6.520448\n",
       "std    13004.091024   1764.304179    13.941169\n",
       "min        0.000000      4.000000     0.000000\n",
       "25%    31515.500000     80.000000     1.000000\n",
       "50%    35224.000000    180.000000     1.000000\n",
       "75%    40447.250000    400.000000     8.000000\n",
       "max    49997.000000  42000.000000   200.000000"
      ]
     },
     "execution_count": 10,
     "metadata": {},
     "output_type": "execute_result"
    }
   ],
   "source": [
    "product.describe()"
   ]
  },
  {
   "cell_type": "code",
   "execution_count": 5,
   "metadata": {},
   "outputs": [
    {
     "data": {
      "text/html": [
       "<div>\n",
       "<style>\n",
       "    .dataframe thead tr:only-child th {\n",
       "        text-align: right;\n",
       "    }\n",
       "\n",
       "    .dataframe thead th {\n",
       "        text-align: left;\n",
       "    }\n",
       "\n",
       "    .dataframe tbody tr th {\n",
       "        vertical-align: top;\n",
       "    }\n",
       "</style>\n",
       "<table border=\"1\" class=\"dataframe\">\n",
       "  <thead>\n",
       "    <tr style=\"text-align: right;\">\n",
       "      <th></th>\n",
       "      <th>Product_ID</th>\n",
       "      <th>product_name</th>\n",
       "      <th>brand</th>\n",
       "      <th>weight</th>\n",
       "      <th>pieces</th>\n",
       "    </tr>\n",
       "  </thead>\n",
       "  <tbody>\n",
       "    <tr>\n",
       "      <th>0</th>\n",
       "      <td>0</td>\n",
       "      <td>NO</td>\n",
       "      <td>IDENTIFICADO</td>\n",
       "      <td>4.0</td>\n",
       "      <td>1.0</td>\n",
       "    </tr>\n",
       "    <tr>\n",
       "      <th>1</th>\n",
       "      <td>9</td>\n",
       "      <td>Capuccino Moka</td>\n",
       "      <td>NES</td>\n",
       "      <td>750.0</td>\n",
       "      <td>1.0</td>\n",
       "    </tr>\n",
       "    <tr>\n",
       "      <th>2</th>\n",
       "      <td>41</td>\n",
       "      <td>Bimbollos Ext sAjonjoli</td>\n",
       "      <td>BIM</td>\n",
       "      <td>480.0</td>\n",
       "      <td>6.0</td>\n",
       "    </tr>\n",
       "    <tr>\n",
       "      <th>3</th>\n",
       "      <td>53</td>\n",
       "      <td>Burritos Sincro</td>\n",
       "      <td>LON</td>\n",
       "      <td>170.0</td>\n",
       "      <td>1.0</td>\n",
       "    </tr>\n",
       "    <tr>\n",
       "      <th>4</th>\n",
       "      <td>72</td>\n",
       "      <td>Div Tira Mini Doradita</td>\n",
       "      <td>TR</td>\n",
       "      <td>45.0</td>\n",
       "      <td>4.0</td>\n",
       "    </tr>\n",
       "  </tbody>\n",
       "</table>\n",
       "</div>"
      ],
      "text/plain": [
       "   Product_ID              product_name         brand  weight  pieces\n",
       "0           0                        NO  IDENTIFICADO     4.0     1.0\n",
       "1           9           Capuccino Moka            NES   750.0     1.0\n",
       "2          41  Bimbollos Ext sAjonjoli            BIM   480.0     6.0\n",
       "3          53          Burritos Sincro            LON   170.0     1.0\n",
       "4          72   Div Tira Mini Doradita             TR    45.0     4.0"
      ]
     },
     "execution_count": 5,
     "metadata": {},
     "output_type": "execute_result"
    }
   ],
   "source": [
    "product['weight'].fillna(4,inplace=True)\n",
    "product.head()"
   ]
  },
  {
   "cell_type": "code",
   "execution_count": 6,
   "metadata": {
    "collapsed": true
   },
   "outputs": [],
   "source": [
    "test =pd.merge(test,product,how='inner',on='Product_ID') \n",
    "test =pd.merge(test,town,how='inner',on='Sales_Depot_ID')\n",
    "test =pd.merge(test,client,how='inner',on='Client_ID')\n",
    "test.drop(['Client_ID','Product_ID','Sales_Depot_ID'],axis=1,inplace=True)"
   ]
  },
  {
   "cell_type": "code",
   "execution_count": 7,
   "metadata": {},
   "outputs": [
    {
     "data": {
      "text/html": [
       "<div>\n",
       "<style>\n",
       "    .dataframe thead tr:only-child th {\n",
       "        text-align: right;\n",
       "    }\n",
       "\n",
       "    .dataframe thead th {\n",
       "        text-align: left;\n",
       "    }\n",
       "\n",
       "    .dataframe tbody tr th {\n",
       "        vertical-align: top;\n",
       "    }\n",
       "</style>\n",
       "<table border=\"1\" class=\"dataframe\">\n",
       "  <thead>\n",
       "    <tr style=\"text-align: right;\">\n",
       "      <th></th>\n",
       "      <th>Week_number</th>\n",
       "      <th>Sales_Channel_ID</th>\n",
       "      <th>Route_ID</th>\n",
       "      <th>product_name</th>\n",
       "      <th>brand</th>\n",
       "      <th>weight</th>\n",
       "      <th>pieces</th>\n",
       "      <th>Town</th>\n",
       "      <th>State</th>\n",
       "      <th>Client_name</th>\n",
       "    </tr>\n",
       "  </thead>\n",
       "  <tbody>\n",
       "    <tr>\n",
       "      <th>0</th>\n",
       "      <td>11</td>\n",
       "      <td>1</td>\n",
       "      <td>2209</td>\n",
       "      <td>Barritas Fresa</td>\n",
       "      <td>MLA</td>\n",
       "      <td>75.0</td>\n",
       "      <td>1.0</td>\n",
       "      <td>2499 REYNOSA MARINELA</td>\n",
       "      <td>TAMAULIPAS</td>\n",
       "      <td>NO_Name</td>\n",
       "    </tr>\n",
       "    <tr>\n",
       "      <th>1</th>\n",
       "      <td>10</td>\n",
       "      <td>1</td>\n",
       "      <td>2209</td>\n",
       "      <td>Barritas Fresa</td>\n",
       "      <td>MLA</td>\n",
       "      <td>75.0</td>\n",
       "      <td>1.0</td>\n",
       "      <td>2499 REYNOSA MARINELA</td>\n",
       "      <td>TAMAULIPAS</td>\n",
       "      <td>NO_Name</td>\n",
       "    </tr>\n",
       "    <tr>\n",
       "      <th>2</th>\n",
       "      <td>10</td>\n",
       "      <td>1</td>\n",
       "      <td>2209</td>\n",
       "      <td>Triki Trakes</td>\n",
       "      <td>MLA</td>\n",
       "      <td>69.0</td>\n",
       "      <td>8.0</td>\n",
       "      <td>2499 REYNOSA MARINELA</td>\n",
       "      <td>TAMAULIPAS</td>\n",
       "      <td>NO_Name</td>\n",
       "    </tr>\n",
       "    <tr>\n",
       "      <th>3</th>\n",
       "      <td>11</td>\n",
       "      <td>1</td>\n",
       "      <td>2209</td>\n",
       "      <td>Barritas Pina</td>\n",
       "      <td>MLA</td>\n",
       "      <td>75.0</td>\n",
       "      <td>1.0</td>\n",
       "      <td>2499 REYNOSA MARINELA</td>\n",
       "      <td>TAMAULIPAS</td>\n",
       "      <td>NO_Name</td>\n",
       "    </tr>\n",
       "    <tr>\n",
       "      <th>4</th>\n",
       "      <td>11</td>\n",
       "      <td>1</td>\n",
       "      <td>2101</td>\n",
       "      <td>Barritas Fresa</td>\n",
       "      <td>MLA</td>\n",
       "      <td>75.0</td>\n",
       "      <td>1.0</td>\n",
       "      <td>2499 REYNOSA MARINELA</td>\n",
       "      <td>TAMAULIPAS</td>\n",
       "      <td>MS PALOMO</td>\n",
       "    </tr>\n",
       "  </tbody>\n",
       "</table>\n",
       "</div>"
      ],
      "text/plain": [
       "   Week_number  Sales_Channel_ID  Route_ID     product_name brand  weight  \\\n",
       "0           11                 1      2209  Barritas Fresa    MLA    75.0   \n",
       "1           10                 1      2209  Barritas Fresa    MLA    75.0   \n",
       "2           10                 1      2209    Triki Trakes    MLA    69.0   \n",
       "3           11                 1      2209   Barritas Pina    MLA    75.0   \n",
       "4           11                 1      2101  Barritas Fresa    MLA    75.0   \n",
       "\n",
       "   pieces                   Town       State Client_name  \n",
       "0     1.0  2499 REYNOSA MARINELA  TAMAULIPAS     NO_Name  \n",
       "1     1.0  2499 REYNOSA MARINELA  TAMAULIPAS     NO_Name  \n",
       "2     8.0  2499 REYNOSA MARINELA  TAMAULIPAS     NO_Name  \n",
       "3     1.0  2499 REYNOSA MARINELA  TAMAULIPAS     NO_Name  \n",
       "4     1.0  2499 REYNOSA MARINELA  TAMAULIPAS   MS PALOMO  "
      ]
     },
     "execution_count": 7,
     "metadata": {},
     "output_type": "execute_result"
    }
   ],
   "source": [
    "test.head()"
   ]
  },
  {
   "cell_type": "code",
   "execution_count": 17,
   "metadata": {},
   "outputs": [
    {
     "data": {
      "text/plain": [
       "(25000000, 18)"
      ]
     },
     "execution_count": 17,
     "metadata": {},
     "output_type": "execute_result"
    }
   ],
   "source": [
    "train =pd.merge(train,product,how='inner',on='Product_ID') \n",
    "train =pd.merge(train,town,how='inner',on='Sales_Depot_ID')\n",
    "train =pd.merge(train,client,how='inner',on='Client_ID')\n",
    "train.drop(['Client_ID','Product_ID','Sales_Depot_ID'],axis=1,inplace=True)\n",
    "train.shape"
   ]
  },
  {
   "cell_type": "code",
   "execution_count": 9,
   "metadata": {},
   "outputs": [
    {
     "data": {
      "text/plain": [
       "(25000000, 18)"
      ]
     },
     "execution_count": 9,
     "metadata": {},
     "output_type": "execute_result"
    }
   ],
   "source": [
    "train1 =pd.merge(train1,product,how='inner',on='Product_ID') \n",
    "train1 =pd.merge(train1,town,how='inner',on='Sales_Depot_ID')\n",
    "train1 =pd.merge(train1,client,how='inner',on='Client_ID')\n",
    "train.drop(['Client_ID','Product_ID','Sales_Depot_ID'],axis=1,inplace=True)\n",
    "train1.shape"
   ]
  },
  {
   "cell_type": "code",
   "execution_count": null,
   "metadata": {
    "collapsed": true
   },
   "outputs": [],
   "source": [
    "train2 =pd.merge(train2,product,how='inner',on='Product_ID') \n",
    "train2 =pd.merge(train2,town,how='inner',on='Sales_Depot_ID')\n",
    "train2 =pd.merge(train2,client,how='inner',on='Client_ID')\n",
    "train.drop(['Client_ID','Product_ID','Sales_Depot_ID'],axis=1,inplace=True)\n",
    "train2.shape"
   ]
  },
  {
   "cell_type": "markdown",
   "metadata": {},
   "source": [
    "# Data Visualization"
   ]
  },
  {
   "cell_type": "code",
   "execution_count": 21,
   "metadata": {},
   "outputs": [
    {
     "data": {
      "text/plain": [
       "<matplotlib.axes._subplots.AxesSubplot at 0x19839548ba8>"
      ]
     },
     "execution_count": 21,
     "metadata": {},
     "output_type": "execute_result"
    },
    {
     "data": {
      "image/png": "[encoded data removed]",
      "text/plain": [
       "<matplotlib.figure.Figure at 0x198394fc208>"
      ]
     },
     "metadata": {},
     "output_type": "display_data"
    }
   ],
   "source": [
    "sns.distplot(product.weight.dropna())"
   ]
  },
  {
   "cell_type": "code",
   "execution_count": 14,
   "metadata": {},
   "outputs": [
    {
     "data": {
      "image/png": "[encoded data removed]",
      "text/plain": [
       "<matplotlib.figure.Figure at 0x2848ba4b8d0>"
      ]
     },
     "metadata": {},
     "output_type": "display_data"
    }
   ],
   "source": [
    "#Top 10 selling products in 11th week\n",
    "\n",
    "t = test.loc[test['Week_number'] == 11]\n",
    "t = t.product_name.value_counts(sort=True)\n",
    "t.head(10).plot(kind='bar', color='red', rot=0,figsize=(15,9))\n",
    "plt.xlabel('Product')\n",
    "sns.despine()\n",
    "del t"
   ]
  },
  {
   "cell_type": "code",
   "execution_count": 20,
   "metadata": {},
   "outputs": [
    {
     "data": {
      "image/png": "[encoded data removed]",
      "text/plain": [
       "<matplotlib.figure.Figure at 0x2848b937710>"
      ]
     },
     "metadata": {},
     "output_type": "display_data"
    }
   ],
   "source": [
    "t = pd.read_csv('train.csv',usecols=[0],dtype={'Semana':'int32'})\n",
    "t.Semana.value_counts(sort=False).plot(kind='bar', color='blue', rot=0,figsize=(15,8))\n",
    "plt.xlabel('Week')\n",
    "sns.despine()\n",
    "del t"
   ]
  },
  {
   "cell_type": "code",
   "execution_count": 25,
   "metadata": {},
   "outputs": [
    {
     "data": {
      "image/png": "[encoded data removed]",
      "text/plain": [
       "<matplotlib.figure.Figure at 0x2848b8f4b38>"
      ]
     },
     "metadata": {},
     "output_type": "display_data"
    }
   ],
   "source": [
    "t = pd.read_csv('train.csv',usecols=[0,2],dtype={'Semana':'int32','Canal_ID':'int32'})\n",
    "list1 = list(t['Semana'].drop_duplicates())\n",
    "list2 = list(t['Canal_ID'].drop_duplicates())\n",
    "dev_sin = pd.DataFrame()\n",
    "dev_sin['Semana']=list1\n",
    "for x in list2:\n",
    "    sin=[]\n",
    "    for y in list1:\n",
    "        occ = t.loc[(t['Semana'] == y ) & (t['Canal_ID'] == x)].Canal_ID.count()\n",
    "        sin.append(occ)\n",
    "    dev_sin[x]=sin\n",
    "    \n",
    "dev_sin.set_index('Semana',inplace=True)\n",
    "dev_sin.plot(kind='bar', legend=True,figsize=(15,10))\n",
    "plt.xlabel('Weeks')\n",
    "sns.despine()\n",
    "del dev_sin\n",
    "del t"
   ]
  },
  {
   "cell_type": "code",
   "execution_count": null,
   "metadata": {
    "collapsed": true
   },
   "outputs": [],
   "source": []
  }
 ],
 "metadata": {
  "kernelspec": {
   "display_name": "Python 3",
   "language": "python",
   "name": "python3"
  },
  "language_info": {
   "codemirror_mode": {
    "name": "ipython",
    "version": 3
   },
   "file_extension": ".py",
   "mimetype": "text/x-python",
   "name": "python",
   "nbconvert_exporter": "python",
   "pygments_lexer": "ipython3",
   "version": "3.6.1"
  }
 },
 "nbformat": 4,
 "nbformat_minor": 2
}
